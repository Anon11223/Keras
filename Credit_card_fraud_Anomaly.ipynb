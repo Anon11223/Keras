{
  "nbformat": 4,
  "nbformat_minor": 0,
  "metadata": {
    "colab": {
      "name": "Credit_card_fraud_Anomaly.ipynb",
      "version": "0.3.2",
      "provenance": [],
      "include_colab_link": true
    },
    "kernelspec": {
      "name": "python3",
      "display_name": "Python 3"
    }
  },
  "cells": [
    {
      "cell_type": "markdown",
      "metadata": {
        "id": "view-in-github",
        "colab_type": "text"
      },
      "source": [
        "<a href=\"https://colab.research.google.com/github/Anon11223/Keras/blob/master/Credit_card_fraud_Anomaly.ipynb\" target=\"_parent\"><img src=\"https://colab.research.google.com/assets/colab-badge.svg\" alt=\"Open In Colab\"/></a>"
      ]
    },
    {
      "metadata": {
        "id": "YW1si3p3Y1LB",
        "colab_type": "code",
        "colab": {}
      },
      "cell_type": "code",
      "source": [
        "!pip install -U -q kaggle\n",
        "!mkdir -p ~/.kaggle"
      ],
      "execution_count": 0,
      "outputs": []
    },
    {
      "metadata": {
        "id": "PChRym8kZKJD",
        "colab_type": "code",
        "outputId": "b2213221-a065-45df-e739-4850d1801a60",
        "colab": {
          "resources": {
            "http://localhost:8080/nbextensions/google.colab/files.js": {
              "data": "Ly8gQ29weXJpZ2h0IDIwMTcgR29vZ2xlIExMQwovLwovLyBMaWNlbnNlZCB1bmRlciB0aGUgQXBhY2hlIExpY2Vuc2UsIFZlcnNpb24gMi4wICh0aGUgIkxpY2Vuc2UiKTsKLy8geW91IG1heSBub3QgdXNlIHRoaXMgZmlsZSBleGNlcHQgaW4gY29tcGxpYW5jZSB3aXRoIHRoZSBMaWNlbnNlLgovLyBZb3UgbWF5IG9idGFpbiBhIGNvcHkgb2YgdGhlIExpY2Vuc2UgYXQKLy8KLy8gICAgICBodHRwOi8vd3d3LmFwYWNoZS5vcmcvbGljZW5zZXMvTElDRU5TRS0yLjAKLy8KLy8gVW5sZXNzIHJlcXVpcmVkIGJ5IGFwcGxpY2FibGUgbGF3IG9yIGFncmVlZCB0byBpbiB3cml0aW5nLCBzb2Z0d2FyZQovLyBkaXN0cmlidXRlZCB1bmRlciB0aGUgTGljZW5zZSBpcyBkaXN0cmlidXRlZCBvbiBhbiAiQVMgSVMiIEJBU0lTLAovLyBXSVRIT1VUIFdBUlJBTlRJRVMgT1IgQ09ORElUSU9OUyBPRiBBTlkgS0lORCwgZWl0aGVyIGV4cHJlc3Mgb3IgaW1wbGllZC4KLy8gU2VlIHRoZSBMaWNlbnNlIGZvciB0aGUgc3BlY2lmaWMgbGFuZ3VhZ2UgZ292ZXJuaW5nIHBlcm1pc3Npb25zIGFuZAovLyBsaW1pdGF0aW9ucyB1bmRlciB0aGUgTGljZW5zZS4KCi8qKgogKiBAZmlsZW92ZXJ2aWV3IEhlbHBlcnMgZm9yIGdvb2dsZS5jb2xhYiBQeXRob24gbW9kdWxlLgogKi8KKGZ1bmN0aW9uKHNjb3BlKSB7CmZ1bmN0aW9uIHNwYW4odGV4dCwgc3R5bGVBdHRyaWJ1dGVzID0ge30pIHsKICBjb25zdCBlbGVtZW50ID0gZG9jdW1lbnQuY3JlYXRlRWxlbWVudCgnc3BhbicpOwogIGVsZW1lbnQudGV4dENvbnRlbnQgPSB0ZXh0OwogIGZvciAoY29uc3Qga2V5IG9mIE9iamVjdC5rZXlzKHN0eWxlQXR0cmlidXRlcykpIHsKICAgIGVsZW1lbnQuc3R5bGVba2V5XSA9IHN0eWxlQXR0cmlidXRlc1trZXldOwogIH0KICByZXR1cm4gZWxlbWVudDsKfQoKLy8gTWF4IG51bWJlciBvZiBieXRlcyB3aGljaCB3aWxsIGJlIHVwbG9hZGVkIGF0IGEgdGltZS4KY29uc3QgTUFYX1BBWUxPQURfU0laRSA9IDEwMCAqIDEwMjQ7Ci8vIE1heCBhbW91bnQgb2YgdGltZSB0byBibG9jayB3YWl0aW5nIGZvciB0aGUgdXNlci4KY29uc3QgRklMRV9DSEFOR0VfVElNRU9VVF9NUyA9IDMwICogMTAwMDsKCmZ1bmN0aW9uIF91cGxvYWRGaWxlcyhpbnB1dElkLCBvdXRwdXRJZCkgewogIGNvbnN0IHN0ZXBzID0gdXBsb2FkRmlsZXNTdGVwKGlucHV0SWQsIG91dHB1dElkKTsKICBjb25zdCBvdXRwdXRFbGVtZW50ID0gZG9jdW1lbnQuZ2V0RWxlbWVudEJ5SWQob3V0cHV0SWQpOwogIC8vIENhY2hlIHN0ZXBzIG9uIHRoZSBvdXRwdXRFbGVtZW50IHRvIG1ha2UgaXQgYXZhaWxhYmxlIGZvciB0aGUgbmV4dCBjYWxsCiAgLy8gdG8gdXBsb2FkRmlsZXNDb250aW51ZSBmcm9tIFB5dGhvbi4KICBvdXRwdXRFbGVtZW50LnN0ZXBzID0gc3RlcHM7CgogIHJldHVybiBfdXBsb2FkRmlsZXNDb250aW51ZShvdXRwdXRJZCk7Cn0KCi8vIFRoaXMgaXMgcm91Z2hseSBhbiBhc3luYyBnZW5lcmF0b3IgKG5vdCBzdXBwb3J0ZWQgaW4gdGhlIGJyb3dzZXIgeWV0KSwKLy8gd2hlcmUgdGhlcmUgYXJlIG11bHRpcGxlIGFzeW5jaHJvbm91cyBzdGVwcyBhbmQgdGhlIFB5dGhvbiBzaWRlIGlzIGdvaW5nCi8vIHRvIHBvbGwgZm9yIGNvbXBsZXRpb24gb2YgZWFjaCBzdGVwLgovLyBUaGlzIHVzZXMgYSBQcm9taXNlIHRvIGJsb2NrIHRoZSBweXRob24gc2lkZSBvbiBjb21wbGV0aW9uIG9mIGVhY2ggc3RlcCwKLy8gdGhlbiBwYXNzZXMgdGhlIHJlc3VsdCBvZiB0aGUgcHJldmlvdXMgc3RlcCBhcyB0aGUgaW5wdXQgdG8gdGhlIG5leHQgc3RlcC4KZnVuY3Rpb24gX3VwbG9hZEZpbGVzQ29udGludWUob3V0cHV0SWQpIHsKICBjb25zdCBvdXRwdXRFbGVtZW50ID0gZG9jdW1lbnQuZ2V0RWxlbWVudEJ5SWQob3V0cHV0SWQpOwogIGNvbnN0IHN0ZXBzID0gb3V0cHV0RWxlbWVudC5zdGVwczsKCiAgY29uc3QgbmV4dCA9IHN0ZXBzLm5leHQob3V0cHV0RWxlbWVudC5sYXN0UHJvbWlzZVZhbHVlKTsKICByZXR1cm4gUHJvbWlzZS5yZXNvbHZlKG5leHQudmFsdWUucHJvbWlzZSkudGhlbigodmFsdWUpID0+IHsKICAgIC8vIENhY2hlIHRoZSBsYXN0IHByb21pc2UgdmFsdWUgdG8gbWFrZSBpdCBhdmFpbGFibGUgdG8gdGhlIG5leHQKICAgIC8vIHN0ZXAgb2YgdGhlIGdlbmVyYXRvci4KICAgIG91dHB1dEVsZW1lbnQubGFzdFByb21pc2VWYWx1ZSA9IHZhbHVlOwogICAgcmV0dXJuIG5leHQudmFsdWUucmVzcG9uc2U7CiAgfSk7Cn0KCi8qKgogKiBHZW5lcmF0b3IgZnVuY3Rpb24gd2hpY2ggaXMgY2FsbGVkIGJldHdlZW4gZWFjaCBhc3luYyBzdGVwIG9mIHRoZSB1cGxvYWQKICogcHJvY2Vzcy4KICogQHBhcmFtIHtzdHJpbmd9IGlucHV0SWQgRWxlbWVudCBJRCBvZiB0aGUgaW5wdXQgZmlsZSBwaWNrZXIgZWxlbWVudC4KICogQHBhcmFtIHtzdHJpbmd9IG91dHB1dElkIEVsZW1lbnQgSUQgb2YgdGhlIG91dHB1dCBkaXNwbGF5LgogKiBAcmV0dXJuIHshSXRlcmFibGU8IU9iamVjdD59IEl0ZXJhYmxlIG9mIG5leHQgc3RlcHMuCiAqLwpmdW5jdGlvbiogdXBsb2FkRmlsZXNTdGVwKGlucHV0SWQsIG91dHB1dElkKSB7CiAgY29uc3QgaW5wdXRFbGVtZW50ID0gZG9jdW1lbnQuZ2V0RWxlbWVudEJ5SWQoaW5wdXRJZCk7CiAgaW5wdXRFbGVtZW50LmRpc2FibGVkID0gZmFsc2U7CgogIGNvbnN0IG91dHB1dEVsZW1lbnQgPSBkb2N1bWVudC5nZXRFbGVtZW50QnlJZChvdXRwdXRJZCk7CiAgb3V0cHV0RWxlbWVudC5pbm5lckhUTUwgPSAnJzsKCiAgY29uc3QgcGlja2VkUHJvbWlzZSA9IG5ldyBQcm9taXNlKChyZXNvbHZlKSA9PiB7CiAgICBpbnB1dEVsZW1lbnQuYWRkRXZlbnRMaXN0ZW5lcignY2hhbmdlJywgKGUpID0+IHsKICAgICAgcmVzb2x2ZShlLnRhcmdldC5maWxlcyk7CiAgICB9KTsKICB9KTsKCiAgY29uc3QgY2FuY2VsID0gZG9jdW1lbnQuY3JlYXRlRWxlbWVudCgnYnV0dG9uJyk7CiAgaW5wdXRFbGVtZW50LnBhcmVudEVsZW1lbnQuYXBwZW5kQ2hpbGQoY2FuY2VsKTsKICBjYW5jZWwudGV4dENvbnRlbnQgPSAnQ2FuY2VsIHVwbG9hZCc7CiAgY29uc3QgY2FuY2VsUHJvbWlzZSA9IG5ldyBQcm9taXNlKChyZXNvbHZlKSA9PiB7CiAgICBjYW5jZWwub25jbGljayA9ICgpID0+IHsKICAgICAgcmVzb2x2ZShudWxsKTsKICAgIH07CiAgfSk7CgogIC8vIENhbmNlbCB1cGxvYWQgaWYgdXNlciBoYXNuJ3QgcGlja2VkIGFueXRoaW5nIGluIHRpbWVvdXQuCiAgY29uc3QgdGltZW91dFByb21pc2UgPSBuZXcgUHJvbWlzZSgocmVzb2x2ZSkgPT4gewogICAgc2V0VGltZW91dCgoKSA9PiB7CiAgICAgIHJlc29sdmUobnVsbCk7CiAgICB9LCBGSUxFX0NIQU5HRV9USU1FT1VUX01TKTsKICB9KTsKCiAgLy8gV2FpdCBmb3IgdGhlIHVzZXIgdG8gcGljayB0aGUgZmlsZXMuCiAgY29uc3QgZmlsZXMgPSB5aWVsZCB7CiAgICBwcm9taXNlOiBQcm9taXNlLnJhY2UoW3BpY2tlZFByb21pc2UsIHRpbWVvdXRQcm9taXNlLCBjYW5jZWxQcm9taXNlXSksCiAgICByZXNwb25zZTogewogICAgICBhY3Rpb246ICdzdGFydGluZycsCiAgICB9CiAgfTsKCiAgaWYgKCFmaWxlcykgewogICAgcmV0dXJuIHsKICAgICAgcmVzcG9uc2U6IHsKICAgICAgICBhY3Rpb246ICdjb21wbGV0ZScsCiAgICAgIH0KICAgIH07CiAgfQoKICBjYW5jZWwucmVtb3ZlKCk7CgogIC8vIERpc2FibGUgdGhlIGlucHV0IGVsZW1lbnQgc2luY2UgZnVydGhlciBwaWNrcyBhcmUgbm90IGFsbG93ZWQuCiAgaW5wdXRFbGVtZW50LmRpc2FibGVkID0gdHJ1ZTsKCiAgZm9yIChjb25zdCBmaWxlIG9mIGZpbGVzKSB7CiAgICBjb25zdCBsaSA9IGRvY3VtZW50LmNyZWF0ZUVsZW1lbnQoJ2xpJyk7CiAgICBsaS5hcHBlbmQoc3BhbihmaWxlLm5hbWUsIHtmb250V2VpZ2h0OiAnYm9sZCd9KSk7CiAgICBsaS5hcHBlbmQoc3BhbigKICAgICAgICBgKCR7ZmlsZS50eXBlIHx8ICduL2EnfSkgLSAke2ZpbGUuc2l6ZX0gYnl0ZXMsIGAgKwogICAgICAgIGBsYXN0IG1vZGlmaWVkOiAkewogICAgICAgICAgICBmaWxlLmxhc3RNb2RpZmllZERhdGUgPyBmaWxlLmxhc3RNb2RpZmllZERhdGUudG9Mb2NhbGVEYXRlU3RyaW5nKCkgOgogICAgICAgICAgICAgICAgICAgICAgICAgICAgICAgICAgICAnbi9hJ30gLSBgKSk7CiAgICBjb25zdCBwZXJjZW50ID0gc3BhbignMCUgZG9uZScpOwogICAgbGkuYXBwZW5kQ2hpbGQocGVyY2VudCk7CgogICAgb3V0cHV0RWxlbWVudC5hcHBlbmRDaGlsZChsaSk7CgogICAgY29uc3QgZmlsZURhdGFQcm9taXNlID0gbmV3IFByb21pc2UoKHJlc29sdmUpID0+IHsKICAgICAgY29uc3QgcmVhZGVyID0gbmV3IEZpbGVSZWFkZXIoKTsKICAgICAgcmVhZGVyLm9ubG9hZCA9IChlKSA9PiB7CiAgICAgICAgcmVzb2x2ZShlLnRhcmdldC5yZXN1bHQpOwogICAgICB9OwogICAgICByZWFkZXIucmVhZEFzQXJyYXlCdWZmZXIoZmlsZSk7CiAgICB9KTsKICAgIC8vIFdhaXQgZm9yIHRoZSBkYXRhIHRvIGJlIHJlYWR5LgogICAgbGV0IGZpbGVEYXRhID0geWllbGQgewogICAgICBwcm9taXNlOiBmaWxlRGF0YVByb21pc2UsCiAgICAgIHJlc3BvbnNlOiB7CiAgICAgICAgYWN0aW9uOiAnY29udGludWUnLAogICAgICB9CiAgICB9OwoKICAgIC8vIFVzZSBhIGNodW5rZWQgc2VuZGluZyB0byBhdm9pZCBtZXNzYWdlIHNpemUgbGltaXRzLiBTZWUgYi82MjExNTY2MC4KICAgIGxldCBwb3NpdGlvbiA9IDA7CiAgICB3aGlsZSAocG9zaXRpb24gPCBmaWxlRGF0YS5ieXRlTGVuZ3RoKSB7CiAgICAgIGNvbnN0IGxlbmd0aCA9IE1hdGgubWluKGZpbGVEYXRhLmJ5dGVMZW5ndGggLSBwb3NpdGlvbiwgTUFYX1BBWUxPQURfU0laRSk7CiAgICAgIGNvbnN0IGNodW5rID0gbmV3IFVpbnQ4QXJyYXkoZmlsZURhdGEsIHBvc2l0aW9uLCBsZW5ndGgpOwogICAgICBwb3NpdGlvbiArPSBsZW5ndGg7CgogICAgICBjb25zdCBiYXNlNjQgPSBidG9hKFN0cmluZy5mcm9tQ2hhckNvZGUuYXBwbHkobnVsbCwgY2h1bmspKTsKICAgICAgeWllbGQgewogICAgICAgIHJlc3BvbnNlOiB7CiAgICAgICAgICBhY3Rpb246ICdhcHBlbmQnLAogICAgICAgICAgZmlsZTogZmlsZS5uYW1lLAogICAgICAgICAgZGF0YTogYmFzZTY0LAogICAgICAgIH0sCiAgICAgIH07CiAgICAgIHBlcmNlbnQudGV4dENvbnRlbnQgPQogICAgICAgICAgYCR7TWF0aC5yb3VuZCgocG9zaXRpb24gLyBmaWxlRGF0YS5ieXRlTGVuZ3RoKSAqIDEwMCl9JSBkb25lYDsKICAgIH0KICB9CgogIC8vIEFsbCBkb25lLgogIHlpZWxkIHsKICAgIHJlc3BvbnNlOiB7CiAgICAgIGFjdGlvbjogJ2NvbXBsZXRlJywKICAgIH0KICB9Owp9CgpzY29wZS5nb29nbGUgPSBzY29wZS5nb29nbGUgfHwge307CnNjb3BlLmdvb2dsZS5jb2xhYiA9IHNjb3BlLmdvb2dsZS5jb2xhYiB8fCB7fTsKc2NvcGUuZ29vZ2xlLmNvbGFiLl9maWxlcyA9IHsKICBfdXBsb2FkRmlsZXMsCiAgX3VwbG9hZEZpbGVzQ29udGludWUsCn07Cn0pKHNlbGYpOwo=",
              "ok": true,
              "headers": [
                [
                  "content-type",
                  "application/javascript"
                ]
              ],
              "status": 200,
              "status_text": ""
            }
          },
          "base_uri": "https://localhost:8080/",
          "height": 91
        }
      },
      "cell_type": "code",
      "source": [
        "from google.colab import files\n",
        "files.upload()"
      ],
      "execution_count": 0,
      "outputs": [
        {
          "output_type": "display_data",
          "data": {
            "text/html": [
              "\n",
              "     <input type=\"file\" id=\"files-6c0fec28-6e78-4b9e-81b4-d39c196e5a37\" name=\"files[]\" multiple disabled />\n",
              "     <output id=\"result-6c0fec28-6e78-4b9e-81b4-d39c196e5a37\">\n",
              "      Upload widget is only available when the cell has been executed in the\n",
              "      current browser session. Please rerun this cell to enable.\n",
              "      </output>\n",
              "      <script src=\"/nbextensions/google.colab/files.js\"></script> "
            ],
            "text/plain": [
              "<IPython.core.display.HTML object>"
            ]
          },
          "metadata": {
            "tags": []
          }
        },
        {
          "output_type": "stream",
          "text": [
            "Saving kaggle.json to kaggle.json\n"
          ],
          "name": "stdout"
        },
        {
          "output_type": "execute_result",
          "data": {
            "text/plain": [
              "{'kaggle.json': b'{\"username\":\"ashniz\",\"key\":\"5f8906364da148edbb3b2a70aa8fbe3d\"}'}"
            ]
          },
          "metadata": {
            "tags": []
          },
          "execution_count": 6
        }
      ]
    },
    {
      "metadata": {
        "id": "axc0HY1PZKjy",
        "colab_type": "code",
        "colab": {}
      },
      "cell_type": "code",
      "source": [
        "!cp kaggle.json ~/.kaggle/"
      ],
      "execution_count": 0,
      "outputs": []
    },
    {
      "metadata": {
        "id": "Vz8HGgkmZSxt",
        "colab_type": "code",
        "outputId": "576e72e7-0d28-4f72-9c4b-8d50184df917",
        "colab": {
          "base_uri": "https://localhost:8080/",
          "height": 428
        }
      },
      "cell_type": "code",
      "source": [
        "!kaggle datasets list"
      ],
      "execution_count": 0,
      "outputs": [
        {
          "output_type": "stream",
          "text": [
            "Warning: Your Kaggle API key is readable by other users on this system! To fix this, you can run 'chmod 600 /root/.kaggle/kaggle.json'\n",
            "ref                                                          title                                                size  lastUpdated          downloadCount  \n",
            "-----------------------------------------------------------  --------------------------------------------------  -----  -------------------  -------------  \n",
            "ronitf/heart-disease-uci                                     Heart Disease UCI                                     3KB  2018-06-25 11:33:56          14240  \n",
            "russellyates88/suicide-rates-overview-1985-to-2016           Suicide Rates Overview 1985 to 2016                 396KB  2018-12-01 19:18:25          10204  \n",
            "iarunava/cell-images-for-detecting-malaria                   Malaria Cell Images Dataset                         337MB  2018-12-05 05:40:21           2517  \n",
            "lava18/google-play-store-apps                                Google Play Store Apps                                2MB  2019-02-03 13:55:47          40943  \n",
            "bigquery/crypto-ethereum-classic                             Ethereum Classic Blockchain                          69GB  2019-03-04 14:57:33              0  \n",
            "karangadiya/fifa19                                           FIFA 19 complete player dataset                       2MB  2018-12-21 03:52:59          12484  \n",
            "jessicali9530/stanford-dogs-dataset                          Stanford Dogs Dataset                               735MB  2019-02-13 05:45:25           1069  \n",
            "anokas/kuzushiji                                             Kuzushiji-MNIST                                     318MB  2018-12-17 01:19:31            527  \n",
            "mohansacharya/graduate-admissions                            Graduate Admissions                                   9KB  2018-12-28 10:07:14          12647  \n",
            "cityofLA/los-angeles-parking-citations                       Los Angeles Parking Citations                       252MB  2019-03-09 22:16:59           2161  \n",
            "rmisra/news-headlines-dataset-for-sarcasm-detection          News Headlines Dataset For Sarcasm Detection          2MB  2018-06-09 22:14:56           1623  \n",
            "noriuk/us-education-datasets-unification-project             U.S. Education Datasets: Unification Project         85MB  2019-03-02 18:41:52           1902  \n",
            "safegraph/census-block-group-american-community-survey-data  Census Block Group American Community Survey Data     2GB  2018-12-22 00:29:56            433  \n",
            "jessicali9530/celeba-dataset                                 CelebFaces Attributes (CelebA) Dataset                1GB  2018-06-01 20:08:48           4788  \n",
            "mdhrumil/top-5000-youtube-channels-data-from-socialblade     Top 5000 Youtube channels data from Socialblade.    128KB  2018-09-09 14:05:54           4483  \n",
            "vjchoudhary7/customer-segmentation-tutorial-in-python        Mall Customer Segmentation Data                       2KB  2018-08-11 07:23:02           3901  \n",
            "safegraph/visit-patterns-by-census-block-group               Consumer & Visitor Insights For Neighborhoods        66MB  2018-12-19 21:31:50            721  \n",
            "fivethirtyeight/fivethirtyeight-comic-characters-dataset     FiveThirtyEight Comic Characters Dataset            577KB  2019-02-01 15:02:23           1484  \n",
            "jutrera/stanford-car-dataset-by-classes-folder               Stanford Car Dataset by classes folder                2GB  2018-07-02 07:35:45           2042  \n",
            "pavansanagapati/urban-sound-classification                   Urban Sound Classification                            6GB  2018-06-16 13:44:36           1681  \n"
          ],
          "name": "stdout"
        }
      ]
    },
    {
      "metadata": {
        "id": "Sky6bVt2ZrgN",
        "colab_type": "code",
        "outputId": "d1454485-67e6-4dce-8cd2-3e551921791f",
        "colab": {
          "base_uri": "https://localhost:8080/",
          "height": 85
        }
      },
      "cell_type": "code",
      "source": [
        "!kaggle datasets download mlg-ulb/creditcardfraud"
      ],
      "execution_count": 0,
      "outputs": [
        {
          "output_type": "stream",
          "text": [
            "Warning: Your Kaggle API key is readable by other users on this system! To fix this, you can run 'chmod 600 /root/.kaggle/kaggle.json'\n",
            "Downloading creditcardfraud.zip to /content\n",
            " 92% 61.0M/66.0M [00:00<00:00, 58.9MB/s]\n",
            "100% 66.0M/66.0M [00:00<00:00, 79.8MB/s]\n"
          ],
          "name": "stdout"
        }
      ]
    },
    {
      "metadata": {
        "id": "fKJTDCALZWN7",
        "colab_type": "code",
        "outputId": "a6f057f1-f728-4277-be55-0da86fa21343",
        "colab": {
          "base_uri": "https://localhost:8080/",
          "height": 170
        }
      },
      "cell_type": "code",
      "source": [
        "!ls -lart /content\n",
        "!unzip creditcardfraud.zip"
      ],
      "execution_count": 0,
      "outputs": [
        {
          "output_type": "stream",
          "text": [
            "total 67556\n",
            "drwxr-xr-x 1 root root     4096 Feb 26 17:33 .config\n",
            "drwxr-xr-x 1 root root     4096 Feb 26 17:33 sample_data\n",
            "drwxr-xr-x 1 root root     4096 Mar 10 18:10 ..\n",
            "-rw-r--r-- 1 root root       62 Mar 10 18:14 kaggle.json\n",
            "drwxr-xr-x 1 root root     4096 Mar 10 18:29 .\n",
            "-rw-r--r-- 1 root root 69155632 Mar 10 18:29 creditcardfraud.zip\n",
            "Archive:  creditcardfraud.zip\n",
            "  inflating: creditcard.csv          \n"
          ],
          "name": "stdout"
        }
      ]
    },
    {
      "metadata": {
        "id": "2yhuAuJd3ng0",
        "colab_type": "code",
        "outputId": "4f2ec686-16a0-410c-e38d-f7309861e8fe",
        "colab": {
          "base_uri": "https://localhost:8080/",
          "height": 153
        }
      },
      "cell_type": "code",
      "source": [
        "!ls -lart /content"
      ],
      "execution_count": 0,
      "outputs": [
        {
          "output_type": "stream",
          "text": [
            "total 214852\n",
            "-rw-r--r-- 1 root root 150828752 Mar 23  2018 creditcard.csv\n",
            "drwxr-xr-x 1 root root      4096 Feb 26 17:33 .config\n",
            "drwxr-xr-x 1 root root      4096 Feb 26 17:33 sample_data\n",
            "drwxr-xr-x 1 root root      4096 Mar 10 18:10 ..\n",
            "-rw-r--r-- 1 root root        62 Mar 10 18:14 kaggle.json\n",
            "-rw-r--r-- 1 root root  69155632 Mar 10 18:29 creditcardfraud.zip\n",
            "drwxr-xr-x 1 root root      4096 Mar 10 18:31 .\n"
          ],
          "name": "stdout"
        }
      ]
    },
    {
      "metadata": {
        "id": "gdK5Vawx5Y7G",
        "colab_type": "code",
        "colab": {}
      },
      "cell_type": "code",
      "source": [
        "#"
      ],
      "execution_count": 0,
      "outputs": []
    },
    {
      "metadata": {
        "id": "OBP7vkBJ5bLI",
        "colab_type": "text"
      },
      "cell_type": "markdown",
      "source": [
        "# Import libraries\n"
      ]
    },
    {
      "metadata": {
        "id": "H7ryDB725mXm",
        "colab_type": "code",
        "outputId": "0df62c8b-1a7e-4150-975f-f63dcf1ad18e",
        "colab": {
          "base_uri": "https://localhost:8080/",
          "height": 34
        }
      },
      "cell_type": "code",
      "source": [
        "import pandas as pd\n",
        "import numpy as np\n",
        "import pickle\n",
        "import matplotlib.pyplot as plt\n",
        "from scipy import stats\n",
        "import tensorflow as tfthe \n",
        "import seaborn as sns\n",
        "from pylab import rcParams\n",
        "from sklearn.model_selection import train_test_split\n",
        "from keras.models import Model, load_model\n",
        "from keras.layers import Input, Dense\n",
        "from keras.callbacks import ModelCheckpoint, TensorBoard\n",
        "from keras import regularizers"
      ],
      "execution_count": 0,
      "outputs": [
        {
          "output_type": "stream",
          "text": [
            "Using TensorFlow backend.\n"
          ],
          "name": "stderr"
        }
      ]
    },
    {
      "metadata": {
        "id": "ek4LI7qj5nDG",
        "colab_type": "code",
        "colab": {}
      },
      "cell_type": "code",
      "source": [
        "#Load the credit card data"
      ],
      "execution_count": 0,
      "outputs": []
    },
    {
      "metadata": {
        "id": "8GqMOnYG5zIR",
        "colab_type": "code",
        "colab": {}
      },
      "cell_type": "code",
      "source": [
        "df = pd.read_csv(\"creditcard.csv\")\n"
      ],
      "execution_count": 0,
      "outputs": []
    },
    {
      "metadata": {
        "id": "t25CnEy_5zrm",
        "colab_type": "code",
        "outputId": "b50e07fd-ffe9-4c38-b713-6f91088a5e79",
        "colab": {
          "base_uri": "https://localhost:8080/",
          "height": 34
        }
      },
      "cell_type": "code",
      "source": [
        "#What is the shape of the file\n",
        "df.shape"
      ],
      "execution_count": 0,
      "outputs": [
        {
          "output_type": "execute_result",
          "data": {
            "text/plain": [
              "(284807, 31)"
            ]
          },
          "metadata": {
            "tags": []
          },
          "execution_count": 23
        }
      ]
    },
    {
      "metadata": {
        "id": "BnLNps6N6Ard",
        "colab_type": "code",
        "colab": {}
      },
      "cell_type": "code",
      "source": [
        "#Check if any values are null"
      ],
      "execution_count": 0,
      "outputs": []
    },
    {
      "metadata": {
        "id": "hmsOxmKX6Jwd",
        "colab_type": "code",
        "outputId": "181e0a7d-7e12-4143-b03a-bbf89819815c",
        "colab": {
          "base_uri": "https://localhost:8080/",
          "height": 34
        }
      },
      "cell_type": "code",
      "source": [
        "df.isnull().values.any()"
      ],
      "execution_count": 0,
      "outputs": [
        {
          "output_type": "execute_result",
          "data": {
            "text/plain": [
              "False"
            ]
          },
          "metadata": {
            "tags": []
          },
          "execution_count": 25
        }
      ]
    },
    {
      "metadata": {
        "id": "Hla8ngrY6PH8",
        "colab_type": "code",
        "outputId": "fdb3f305-3bb0-44d1-e6fa-a26df9d5f745",
        "colab": {
          "base_uri": "https://localhost:8080/",
          "height": 408
        }
      },
      "cell_type": "code",
      "source": [
        "df.head(10)"
      ],
      "execution_count": 0,
      "outputs": [
        {
          "output_type": "execute_result",
          "data": {
            "text/html": [
              "<div>\n",
              "<style scoped>\n",
              "    .dataframe tbody tr th:only-of-type {\n",
              "        vertical-align: middle;\n",
              "    }\n",
              "\n",
              "    .dataframe tbody tr th {\n",
              "        vertical-align: top;\n",
              "    }\n",
              "\n",
              "    .dataframe thead th {\n",
              "        text-align: right;\n",
              "    }\n",
              "</style>\n",
              "<table border=\"1\" class=\"dataframe\">\n",
              "  <thead>\n",
              "    <tr style=\"text-align: right;\">\n",
              "      <th></th>\n",
              "      <th>Time</th>\n",
              "      <th>V1</th>\n",
              "      <th>V2</th>\n",
              "      <th>V3</th>\n",
              "      <th>V4</th>\n",
              "      <th>V5</th>\n",
              "      <th>V6</th>\n",
              "      <th>V7</th>\n",
              "      <th>V8</th>\n",
              "      <th>V9</th>\n",
              "      <th>...</th>\n",
              "      <th>V21</th>\n",
              "      <th>V22</th>\n",
              "      <th>V23</th>\n",
              "      <th>V24</th>\n",
              "      <th>V25</th>\n",
              "      <th>V26</th>\n",
              "      <th>V27</th>\n",
              "      <th>V28</th>\n",
              "      <th>Amount</th>\n",
              "      <th>Class</th>\n",
              "    </tr>\n",
              "  </thead>\n",
              "  <tbody>\n",
              "    <tr>\n",
              "      <th>0</th>\n",
              "      <td>0.0</td>\n",
              "      <td>-1.359807</td>\n",
              "      <td>-0.072781</td>\n",
              "      <td>2.536347</td>\n",
              "      <td>1.378155</td>\n",
              "      <td>-0.338321</td>\n",
              "      <td>0.462388</td>\n",
              "      <td>0.239599</td>\n",
              "      <td>0.098698</td>\n",
              "      <td>0.363787</td>\n",
              "      <td>...</td>\n",
              "      <td>-0.018307</td>\n",
              "      <td>0.277838</td>\n",
              "      <td>-0.110474</td>\n",
              "      <td>0.066928</td>\n",
              "      <td>0.128539</td>\n",
              "      <td>-0.189115</td>\n",
              "      <td>0.133558</td>\n",
              "      <td>-0.021053</td>\n",
              "      <td>149.62</td>\n",
              "      <td>0</td>\n",
              "    </tr>\n",
              "    <tr>\n",
              "      <th>1</th>\n",
              "      <td>0.0</td>\n",
              "      <td>1.191857</td>\n",
              "      <td>0.266151</td>\n",
              "      <td>0.166480</td>\n",
              "      <td>0.448154</td>\n",
              "      <td>0.060018</td>\n",
              "      <td>-0.082361</td>\n",
              "      <td>-0.078803</td>\n",
              "      <td>0.085102</td>\n",
              "      <td>-0.255425</td>\n",
              "      <td>...</td>\n",
              "      <td>-0.225775</td>\n",
              "      <td>-0.638672</td>\n",
              "      <td>0.101288</td>\n",
              "      <td>-0.339846</td>\n",
              "      <td>0.167170</td>\n",
              "      <td>0.125895</td>\n",
              "      <td>-0.008983</td>\n",
              "      <td>0.014724</td>\n",
              "      <td>2.69</td>\n",
              "      <td>0</td>\n",
              "    </tr>\n",
              "    <tr>\n",
              "      <th>2</th>\n",
              "      <td>1.0</td>\n",
              "      <td>-1.358354</td>\n",
              "      <td>-1.340163</td>\n",
              "      <td>1.773209</td>\n",
              "      <td>0.379780</td>\n",
              "      <td>-0.503198</td>\n",
              "      <td>1.800499</td>\n",
              "      <td>0.791461</td>\n",
              "      <td>0.247676</td>\n",
              "      <td>-1.514654</td>\n",
              "      <td>...</td>\n",
              "      <td>0.247998</td>\n",
              "      <td>0.771679</td>\n",
              "      <td>0.909412</td>\n",
              "      <td>-0.689281</td>\n",
              "      <td>-0.327642</td>\n",
              "      <td>-0.139097</td>\n",
              "      <td>-0.055353</td>\n",
              "      <td>-0.059752</td>\n",
              "      <td>378.66</td>\n",
              "      <td>0</td>\n",
              "    </tr>\n",
              "    <tr>\n",
              "      <th>3</th>\n",
              "      <td>1.0</td>\n",
              "      <td>-0.966272</td>\n",
              "      <td>-0.185226</td>\n",
              "      <td>1.792993</td>\n",
              "      <td>-0.863291</td>\n",
              "      <td>-0.010309</td>\n",
              "      <td>1.247203</td>\n",
              "      <td>0.237609</td>\n",
              "      <td>0.377436</td>\n",
              "      <td>-1.387024</td>\n",
              "      <td>...</td>\n",
              "      <td>-0.108300</td>\n",
              "      <td>0.005274</td>\n",
              "      <td>-0.190321</td>\n",
              "      <td>-1.175575</td>\n",
              "      <td>0.647376</td>\n",
              "      <td>-0.221929</td>\n",
              "      <td>0.062723</td>\n",
              "      <td>0.061458</td>\n",
              "      <td>123.50</td>\n",
              "      <td>0</td>\n",
              "    </tr>\n",
              "    <tr>\n",
              "      <th>4</th>\n",
              "      <td>2.0</td>\n",
              "      <td>-1.158233</td>\n",
              "      <td>0.877737</td>\n",
              "      <td>1.548718</td>\n",
              "      <td>0.403034</td>\n",
              "      <td>-0.407193</td>\n",
              "      <td>0.095921</td>\n",
              "      <td>0.592941</td>\n",
              "      <td>-0.270533</td>\n",
              "      <td>0.817739</td>\n",
              "      <td>...</td>\n",
              "      <td>-0.009431</td>\n",
              "      <td>0.798278</td>\n",
              "      <td>-0.137458</td>\n",
              "      <td>0.141267</td>\n",
              "      <td>-0.206010</td>\n",
              "      <td>0.502292</td>\n",
              "      <td>0.219422</td>\n",
              "      <td>0.215153</td>\n",
              "      <td>69.99</td>\n",
              "      <td>0</td>\n",
              "    </tr>\n",
              "    <tr>\n",
              "      <th>5</th>\n",
              "      <td>2.0</td>\n",
              "      <td>-0.425966</td>\n",
              "      <td>0.960523</td>\n",
              "      <td>1.141109</td>\n",
              "      <td>-0.168252</td>\n",
              "      <td>0.420987</td>\n",
              "      <td>-0.029728</td>\n",
              "      <td>0.476201</td>\n",
              "      <td>0.260314</td>\n",
              "      <td>-0.568671</td>\n",
              "      <td>...</td>\n",
              "      <td>-0.208254</td>\n",
              "      <td>-0.559825</td>\n",
              "      <td>-0.026398</td>\n",
              "      <td>-0.371427</td>\n",
              "      <td>-0.232794</td>\n",
              "      <td>0.105915</td>\n",
              "      <td>0.253844</td>\n",
              "      <td>0.081080</td>\n",
              "      <td>3.67</td>\n",
              "      <td>0</td>\n",
              "    </tr>\n",
              "    <tr>\n",
              "      <th>6</th>\n",
              "      <td>4.0</td>\n",
              "      <td>1.229658</td>\n",
              "      <td>0.141004</td>\n",
              "      <td>0.045371</td>\n",
              "      <td>1.202613</td>\n",
              "      <td>0.191881</td>\n",
              "      <td>0.272708</td>\n",
              "      <td>-0.005159</td>\n",
              "      <td>0.081213</td>\n",
              "      <td>0.464960</td>\n",
              "      <td>...</td>\n",
              "      <td>-0.167716</td>\n",
              "      <td>-0.270710</td>\n",
              "      <td>-0.154104</td>\n",
              "      <td>-0.780055</td>\n",
              "      <td>0.750137</td>\n",
              "      <td>-0.257237</td>\n",
              "      <td>0.034507</td>\n",
              "      <td>0.005168</td>\n",
              "      <td>4.99</td>\n",
              "      <td>0</td>\n",
              "    </tr>\n",
              "    <tr>\n",
              "      <th>7</th>\n",
              "      <td>7.0</td>\n",
              "      <td>-0.644269</td>\n",
              "      <td>1.417964</td>\n",
              "      <td>1.074380</td>\n",
              "      <td>-0.492199</td>\n",
              "      <td>0.948934</td>\n",
              "      <td>0.428118</td>\n",
              "      <td>1.120631</td>\n",
              "      <td>-3.807864</td>\n",
              "      <td>0.615375</td>\n",
              "      <td>...</td>\n",
              "      <td>1.943465</td>\n",
              "      <td>-1.015455</td>\n",
              "      <td>0.057504</td>\n",
              "      <td>-0.649709</td>\n",
              "      <td>-0.415267</td>\n",
              "      <td>-0.051634</td>\n",
              "      <td>-1.206921</td>\n",
              "      <td>-1.085339</td>\n",
              "      <td>40.80</td>\n",
              "      <td>0</td>\n",
              "    </tr>\n",
              "    <tr>\n",
              "      <th>8</th>\n",
              "      <td>7.0</td>\n",
              "      <td>-0.894286</td>\n",
              "      <td>0.286157</td>\n",
              "      <td>-0.113192</td>\n",
              "      <td>-0.271526</td>\n",
              "      <td>2.669599</td>\n",
              "      <td>3.721818</td>\n",
              "      <td>0.370145</td>\n",
              "      <td>0.851084</td>\n",
              "      <td>-0.392048</td>\n",
              "      <td>...</td>\n",
              "      <td>-0.073425</td>\n",
              "      <td>-0.268092</td>\n",
              "      <td>-0.204233</td>\n",
              "      <td>1.011592</td>\n",
              "      <td>0.373205</td>\n",
              "      <td>-0.384157</td>\n",
              "      <td>0.011747</td>\n",
              "      <td>0.142404</td>\n",
              "      <td>93.20</td>\n",
              "      <td>0</td>\n",
              "    </tr>\n",
              "    <tr>\n",
              "      <th>9</th>\n",
              "      <td>9.0</td>\n",
              "      <td>-0.338262</td>\n",
              "      <td>1.119593</td>\n",
              "      <td>1.044367</td>\n",
              "      <td>-0.222187</td>\n",
              "      <td>0.499361</td>\n",
              "      <td>-0.246761</td>\n",
              "      <td>0.651583</td>\n",
              "      <td>0.069539</td>\n",
              "      <td>-0.736727</td>\n",
              "      <td>...</td>\n",
              "      <td>-0.246914</td>\n",
              "      <td>-0.633753</td>\n",
              "      <td>-0.120794</td>\n",
              "      <td>-0.385050</td>\n",
              "      <td>-0.069733</td>\n",
              "      <td>0.094199</td>\n",
              "      <td>0.246219</td>\n",
              "      <td>0.083076</td>\n",
              "      <td>3.68</td>\n",
              "      <td>0</td>\n",
              "    </tr>\n",
              "  </tbody>\n",
              "</table>\n",
              "<p>10 rows × 31 columns</p>\n",
              "</div>"
            ],
            "text/plain": [
              "   Time        V1        V2        V3        V4        V5        V6        V7  \\\n",
              "0   0.0 -1.359807 -0.072781  2.536347  1.378155 -0.338321  0.462388  0.239599   \n",
              "1   0.0  1.191857  0.266151  0.166480  0.448154  0.060018 -0.082361 -0.078803   \n",
              "2   1.0 -1.358354 -1.340163  1.773209  0.379780 -0.503198  1.800499  0.791461   \n",
              "3   1.0 -0.966272 -0.185226  1.792993 -0.863291 -0.010309  1.247203  0.237609   \n",
              "4   2.0 -1.158233  0.877737  1.548718  0.403034 -0.407193  0.095921  0.592941   \n",
              "5   2.0 -0.425966  0.960523  1.141109 -0.168252  0.420987 -0.029728  0.476201   \n",
              "6   4.0  1.229658  0.141004  0.045371  1.202613  0.191881  0.272708 -0.005159   \n",
              "7   7.0 -0.644269  1.417964  1.074380 -0.492199  0.948934  0.428118  1.120631   \n",
              "8   7.0 -0.894286  0.286157 -0.113192 -0.271526  2.669599  3.721818  0.370145   \n",
              "9   9.0 -0.338262  1.119593  1.044367 -0.222187  0.499361 -0.246761  0.651583   \n",
              "\n",
              "         V8        V9  ...         V21       V22       V23       V24  \\\n",
              "0  0.098698  0.363787  ...   -0.018307  0.277838 -0.110474  0.066928   \n",
              "1  0.085102 -0.255425  ...   -0.225775 -0.638672  0.101288 -0.339846   \n",
              "2  0.247676 -1.514654  ...    0.247998  0.771679  0.909412 -0.689281   \n",
              "3  0.377436 -1.387024  ...   -0.108300  0.005274 -0.190321 -1.175575   \n",
              "4 -0.270533  0.817739  ...   -0.009431  0.798278 -0.137458  0.141267   \n",
              "5  0.260314 -0.568671  ...   -0.208254 -0.559825 -0.026398 -0.371427   \n",
              "6  0.081213  0.464960  ...   -0.167716 -0.270710 -0.154104 -0.780055   \n",
              "7 -3.807864  0.615375  ...    1.943465 -1.015455  0.057504 -0.649709   \n",
              "8  0.851084 -0.392048  ...   -0.073425 -0.268092 -0.204233  1.011592   \n",
              "9  0.069539 -0.736727  ...   -0.246914 -0.633753 -0.120794 -0.385050   \n",
              "\n",
              "        V25       V26       V27       V28  Amount  Class  \n",
              "0  0.128539 -0.189115  0.133558 -0.021053  149.62      0  \n",
              "1  0.167170  0.125895 -0.008983  0.014724    2.69      0  \n",
              "2 -0.327642 -0.139097 -0.055353 -0.059752  378.66      0  \n",
              "3  0.647376 -0.221929  0.062723  0.061458  123.50      0  \n",
              "4 -0.206010  0.502292  0.219422  0.215153   69.99      0  \n",
              "5 -0.232794  0.105915  0.253844  0.081080    3.67      0  \n",
              "6  0.750137 -0.257237  0.034507  0.005168    4.99      0  \n",
              "7 -0.415267 -0.051634 -1.206921 -1.085339   40.80      0  \n",
              "8  0.373205 -0.384157  0.011747  0.142404   93.20      0  \n",
              "9 -0.069733  0.094199  0.246219  0.083076    3.68      0  \n",
              "\n",
              "[10 rows x 31 columns]"
            ]
          },
          "metadata": {
            "tags": []
          },
          "execution_count": 27
        }
      ]
    },
    {
      "metadata": {
        "id": "52eY40Lq6ndq",
        "colab_type": "code",
        "colab": {}
      },
      "cell_type": "code",
      "source": [
        "count_classes = pd.value_counts(df['Class'],sort=True)"
      ],
      "execution_count": 0,
      "outputs": []
    },
    {
      "metadata": {
        "id": "UzsfGreu7RSP",
        "colab_type": "code",
        "outputId": "f1421158-6a6b-4756-b944-b2d1e3bd985a",
        "colab": {
          "base_uri": "https://localhost:8080/",
          "height": 576
        }
      },
      "cell_type": "code",
      "source": [
        "count_classes.plot(kind = 'bar', rot=0)\n",
        "plt.title(\"Transaction class distribution\")\n",
        "plt.xticks(range(2), LABELS)\n",
        "plt.xlabel(\"Class\")\n",
        "plt.ylabel(\"Frequency\");"
      ],
      "execution_count": 0,
      "outputs": [
        {
          "output_type": "error",
          "ename": "NameError",
          "evalue": "ignored",
          "traceback": [
            "\u001b[0;31m---------------------------------------------------------------------------\u001b[0m",
            "\u001b[0;31mNameError\u001b[0m                                 Traceback (most recent call last)",
            "\u001b[0;32m<ipython-input-32-40f22e1e4781>\u001b[0m in \u001b[0;36m<module>\u001b[0;34m()\u001b[0m\n\u001b[1;32m      1\u001b[0m \u001b[0mcount_classes\u001b[0m\u001b[0;34m.\u001b[0m\u001b[0mplot\u001b[0m\u001b[0;34m(\u001b[0m\u001b[0mkind\u001b[0m \u001b[0;34m=\u001b[0m \u001b[0;34m'bar'\u001b[0m\u001b[0;34m,\u001b[0m \u001b[0mrot\u001b[0m\u001b[0;34m=\u001b[0m\u001b[0;36m0\u001b[0m\u001b[0;34m)\u001b[0m\u001b[0;34m\u001b[0m\u001b[0;34m\u001b[0m\u001b[0m\n\u001b[1;32m      2\u001b[0m \u001b[0mplt\u001b[0m\u001b[0;34m.\u001b[0m\u001b[0mtitle\u001b[0m\u001b[0;34m(\u001b[0m\u001b[0;34m\"Transaction class distribution\"\u001b[0m\u001b[0;34m)\u001b[0m\u001b[0;34m\u001b[0m\u001b[0;34m\u001b[0m\u001b[0m\n\u001b[0;32m----> 3\u001b[0;31m \u001b[0mplt\u001b[0m\u001b[0;34m.\u001b[0m\u001b[0mxticks\u001b[0m\u001b[0;34m(\u001b[0m\u001b[0mrange\u001b[0m\u001b[0;34m(\u001b[0m\u001b[0;36m2\u001b[0m\u001b[0;34m)\u001b[0m\u001b[0;34m,\u001b[0m \u001b[0mLABELS\u001b[0m\u001b[0;34m)\u001b[0m\u001b[0;34m\u001b[0m\u001b[0;34m\u001b[0m\u001b[0m\n\u001b[0m\u001b[1;32m      4\u001b[0m \u001b[0mplt\u001b[0m\u001b[0;34m.\u001b[0m\u001b[0mxlabel\u001b[0m\u001b[0;34m(\u001b[0m\u001b[0;34m\"Class\"\u001b[0m\u001b[0;34m)\u001b[0m\u001b[0;34m\u001b[0m\u001b[0;34m\u001b[0m\u001b[0m\n\u001b[1;32m      5\u001b[0m \u001b[0mplt\u001b[0m\u001b[0;34m.\u001b[0m\u001b[0mylabel\u001b[0m\u001b[0;34m(\u001b[0m\u001b[0;34m\"Frequency\"\u001b[0m\u001b[0;34m)\u001b[0m\u001b[0;34m;\u001b[0m\u001b[0;34m\u001b[0m\u001b[0;34m\u001b[0m\u001b[0m\n",
            "\u001b[0;31mNameError\u001b[0m: name 'LABELS' is not defined"
          ]
        },
        {
          "output_type": "display_data",
          "data": {
            "image/png": "[encoded data removed]",
            "text/plain": [
              "<Figure size 576x396 with 1 Axes>"
            ]
          },
          "metadata": {
            "tags": []
          }
        }
      ]
    },
    {
      "metadata": {
        "id": "WGEvn9Ou78_h",
        "colab_type": "code",
        "outputId": "758ecf5e-7899-44ac-c845-fcbe5b72454d",
        "colab": {
          "base_uri": "https://localhost:8080/",
          "height": 68
        }
      },
      "cell_type": "code",
      "source": [
        "pd.value_counts(df['Class'])"
      ],
      "execution_count": 0,
      "outputs": [
        {
          "output_type": "execute_result",
          "data": {
            "text/plain": [
              "0    284315\n",
              "1       492\n",
              "Name: Class, dtype: int64"
            ]
          },
          "metadata": {
            "tags": []
          },
          "execution_count": 33
        }
      ]
    },
    {
      "metadata": {
        "id": "NoOsRfvT8u1t",
        "colab_type": "code",
        "colab": {}
      },
      "cell_type": "code",
      "source": [
        "#Prepare the data\n",
        "#Load skikit\n",
        "from sklearn.preprocessing import StandardScaler\n"
      ],
      "execution_count": 0,
      "outputs": []
    },
    {
      "metadata": {
        "id": "xKWiZfEc9Sky",
        "colab_type": "code",
        "colab": {}
      },
      "cell_type": "code",
      "source": [
        "data = df.drop(['Time'], axis=1)\n"
      ],
      "execution_count": 0,
      "outputs": []
    },
    {
      "metadata": {
        "id": "VcZ_KtSl9Uv8",
        "colab_type": "code",
        "outputId": "7bcae157-489a-42fb-98bb-ee3e3c734d9b",
        "colab": {
          "base_uri": "https://localhost:8080/",
          "height": 408
        }
      },
      "cell_type": "code",
      "source": [
        "data.head(10)"
      ],
      "execution_count": 0,
      "outputs": [
        {
          "output_type": "execute_result",
          "data": {
            "text/html": [
              "<div>\n",
              "<style scoped>\n",
              "    .dataframe tbody tr th:only-of-type {\n",
              "        vertical-align: middle;\n",
              "    }\n",
              "\n",
              "    .dataframe tbody tr th {\n",
              "        vertical-align: top;\n",
              "    }\n",
              "\n",
              "    .dataframe thead th {\n",
              "        text-align: right;\n",
              "    }\n",
              "</style>\n",
              "<table border=\"1\" class=\"dataframe\">\n",
              "  <thead>\n",
              "    <tr style=\"text-align: right;\">\n",
              "      <th></th>\n",
              "      <th>V1</th>\n",
              "      <th>V2</th>\n",
              "      <th>V3</th>\n",
              "      <th>V4</th>\n",
              "      <th>V5</th>\n",
              "      <th>V6</th>\n",
              "      <th>V7</th>\n",
              "      <th>V8</th>\n",
              "      <th>V9</th>\n",
              "      <th>V10</th>\n",
              "      <th>...</th>\n",
              "      <th>V21</th>\n",
              "      <th>V22</th>\n",
              "      <th>V23</th>\n",
              "      <th>V24</th>\n",
              "      <th>V25</th>\n",
              "      <th>V26</th>\n",
              "      <th>V27</th>\n",
              "      <th>V28</th>\n",
              "      <th>Amount</th>\n",
              "      <th>Class</th>\n",
              "    </tr>\n",
              "  </thead>\n",
              "  <tbody>\n",
              "    <tr>\n",
              "      <th>0</th>\n",
              "      <td>-1.359807</td>\n",
              "      <td>-0.072781</td>\n",
              "      <td>2.536347</td>\n",
              "      <td>1.378155</td>\n",
              "      <td>-0.338321</td>\n",
              "      <td>0.462388</td>\n",
              "      <td>0.239599</td>\n",
              "      <td>0.098698</td>\n",
              "      <td>0.363787</td>\n",
              "      <td>0.090794</td>\n",
              "      <td>...</td>\n",
              "      <td>-0.018307</td>\n",
              "      <td>0.277838</td>\n",
              "      <td>-0.110474</td>\n",
              "      <td>0.066928</td>\n",
              "      <td>0.128539</td>\n",
              "      <td>-0.189115</td>\n",
              "      <td>0.133558</td>\n",
              "      <td>-0.021053</td>\n",
              "      <td>149.62</td>\n",
              "      <td>0</td>\n",
              "    </tr>\n",
              "    <tr>\n",
              "      <th>1</th>\n",
              "      <td>1.191857</td>\n",
              "      <td>0.266151</td>\n",
              "      <td>0.166480</td>\n",
              "      <td>0.448154</td>\n",
              "      <td>0.060018</td>\n",
              "      <td>-0.082361</td>\n",
              "      <td>-0.078803</td>\n",
              "      <td>0.085102</td>\n",
              "      <td>-0.255425</td>\n",
              "      <td>-0.166974</td>\n",
              "      <td>...</td>\n",
              "      <td>-0.225775</td>\n",
              "      <td>-0.638672</td>\n",
              "      <td>0.101288</td>\n",
              "      <td>-0.339846</td>\n",
              "      <td>0.167170</td>\n",
              "      <td>0.125895</td>\n",
              "      <td>-0.008983</td>\n",
              "      <td>0.014724</td>\n",
              "      <td>2.69</td>\n",
              "      <td>0</td>\n",
              "    </tr>\n",
              "    <tr>\n",
              "      <th>2</th>\n",
              "      <td>-1.358354</td>\n",
              "      <td>-1.340163</td>\n",
              "      <td>1.773209</td>\n",
              "      <td>0.379780</td>\n",
              "      <td>-0.503198</td>\n",
              "      <td>1.800499</td>\n",
              "      <td>0.791461</td>\n",
              "      <td>0.247676</td>\n",
              "      <td>-1.514654</td>\n",
              "      <td>0.207643</td>\n",
              "      <td>...</td>\n",
              "      <td>0.247998</td>\n",
              "      <td>0.771679</td>\n",
              "      <td>0.909412</td>\n",
              "      <td>-0.689281</td>\n",
              "      <td>-0.327642</td>\n",
              "      <td>-0.139097</td>\n",
              "      <td>-0.055353</td>\n",
              "      <td>-0.059752</td>\n",
              "      <td>378.66</td>\n",
              "      <td>0</td>\n",
              "    </tr>\n",
              "    <tr>\n",
              "      <th>3</th>\n",
              "      <td>-0.966272</td>\n",
              "      <td>-0.185226</td>\n",
              "      <td>1.792993</td>\n",
              "      <td>-0.863291</td>\n",
              "      <td>-0.010309</td>\n",
              "      <td>1.247203</td>\n",
              "      <td>0.237609</td>\n",
              "      <td>0.377436</td>\n",
              "      <td>-1.387024</td>\n",
              "      <td>-0.054952</td>\n",
              "      <td>...</td>\n",
              "      <td>-0.108300</td>\n",
              "      <td>0.005274</td>\n",
              "      <td>-0.190321</td>\n",
              "      <td>-1.175575</td>\n",
              "      <td>0.647376</td>\n",
              "      <td>-0.221929</td>\n",
              "      <td>0.062723</td>\n",
              "      <td>0.061458</td>\n",
              "      <td>123.50</td>\n",
              "      <td>0</td>\n",
              "    </tr>\n",
              "    <tr>\n",
              "      <th>4</th>\n",
              "      <td>-1.158233</td>\n",
              "      <td>0.877737</td>\n",
              "      <td>1.548718</td>\n",
              "      <td>0.403034</td>\n",
              "      <td>-0.407193</td>\n",
              "      <td>0.095921</td>\n",
              "      <td>0.592941</td>\n",
              "      <td>-0.270533</td>\n",
              "      <td>0.817739</td>\n",
              "      <td>0.753074</td>\n",
              "      <td>...</td>\n",
              "      <td>-0.009431</td>\n",
              "      <td>0.798278</td>\n",
              "      <td>-0.137458</td>\n",
              "      <td>0.141267</td>\n",
              "      <td>-0.206010</td>\n",
              "      <td>0.502292</td>\n",
              "      <td>0.219422</td>\n",
              "      <td>0.215153</td>\n",
              "      <td>69.99</td>\n",
              "      <td>0</td>\n",
              "    </tr>\n",
              "    <tr>\n",
              "      <th>5</th>\n",
              "      <td>-0.425966</td>\n",
              "      <td>0.960523</td>\n",
              "      <td>1.141109</td>\n",
              "      <td>-0.168252</td>\n",
              "      <td>0.420987</td>\n",
              "      <td>-0.029728</td>\n",
              "      <td>0.476201</td>\n",
              "      <td>0.260314</td>\n",
              "      <td>-0.568671</td>\n",
              "      <td>-0.371407</td>\n",
              "      <td>...</td>\n",
              "      <td>-0.208254</td>\n",
              "      <td>-0.559825</td>\n",
              "      <td>-0.026398</td>\n",
              "      <td>-0.371427</td>\n",
              "      <td>-0.232794</td>\n",
              "      <td>0.105915</td>\n",
              "      <td>0.253844</td>\n",
              "      <td>0.081080</td>\n",
              "      <td>3.67</td>\n",
              "      <td>0</td>\n",
              "    </tr>\n",
              "    <tr>\n",
              "      <th>6</th>\n",
              "      <td>1.229658</td>\n",
              "      <td>0.141004</td>\n",
              "      <td>0.045371</td>\n",
              "      <td>1.202613</td>\n",
              "      <td>0.191881</td>\n",
              "      <td>0.272708</td>\n",
              "      <td>-0.005159</td>\n",
              "      <td>0.081213</td>\n",
              "      <td>0.464960</td>\n",
              "      <td>-0.099254</td>\n",
              "      <td>...</td>\n",
              "      <td>-0.167716</td>\n",
              "      <td>-0.270710</td>\n",
              "      <td>-0.154104</td>\n",
              "      <td>-0.780055</td>\n",
              "      <td>0.750137</td>\n",
              "      <td>-0.257237</td>\n",
              "      <td>0.034507</td>\n",
              "      <td>0.005168</td>\n",
              "      <td>4.99</td>\n",
              "      <td>0</td>\n",
              "    </tr>\n",
              "    <tr>\n",
              "      <th>7</th>\n",
              "      <td>-0.644269</td>\n",
              "      <td>1.417964</td>\n",
              "      <td>1.074380</td>\n",
              "      <td>-0.492199</td>\n",
              "      <td>0.948934</td>\n",
              "      <td>0.428118</td>\n",
              "      <td>1.120631</td>\n",
              "      <td>-3.807864</td>\n",
              "      <td>0.615375</td>\n",
              "      <td>1.249376</td>\n",
              "      <td>...</td>\n",
              "      <td>1.943465</td>\n",
              "      <td>-1.015455</td>\n",
              "      <td>0.057504</td>\n",
              "      <td>-0.649709</td>\n",
              "      <td>-0.415267</td>\n",
              "      <td>-0.051634</td>\n",
              "      <td>-1.206921</td>\n",
              "      <td>-1.085339</td>\n",
              "      <td>40.80</td>\n",
              "      <td>0</td>\n",
              "    </tr>\n",
              "    <tr>\n",
              "      <th>8</th>\n",
              "      <td>-0.894286</td>\n",
              "      <td>0.286157</td>\n",
              "      <td>-0.113192</td>\n",
              "      <td>-0.271526</td>\n",
              "      <td>2.669599</td>\n",
              "      <td>3.721818</td>\n",
              "      <td>0.370145</td>\n",
              "      <td>0.851084</td>\n",
              "      <td>-0.392048</td>\n",
              "      <td>-0.410430</td>\n",
              "      <td>...</td>\n",
              "      <td>-0.073425</td>\n",
              "      <td>-0.268092</td>\n",
              "      <td>-0.204233</td>\n",
              "      <td>1.011592</td>\n",
              "      <td>0.373205</td>\n",
              "      <td>-0.384157</td>\n",
              "      <td>0.011747</td>\n",
              "      <td>0.142404</td>\n",
              "      <td>93.20</td>\n",
              "      <td>0</td>\n",
              "    </tr>\n",
              "    <tr>\n",
              "      <th>9</th>\n",
              "      <td>-0.338262</td>\n",
              "      <td>1.119593</td>\n",
              "      <td>1.044367</td>\n",
              "      <td>-0.222187</td>\n",
              "      <td>0.499361</td>\n",
              "      <td>-0.246761</td>\n",
              "      <td>0.651583</td>\n",
              "      <td>0.069539</td>\n",
              "      <td>-0.736727</td>\n",
              "      <td>-0.366846</td>\n",
              "      <td>...</td>\n",
              "      <td>-0.246914</td>\n",
              "      <td>-0.633753</td>\n",
              "      <td>-0.120794</td>\n",
              "      <td>-0.385050</td>\n",
              "      <td>-0.069733</td>\n",
              "      <td>0.094199</td>\n",
              "      <td>0.246219</td>\n",
              "      <td>0.083076</td>\n",
              "      <td>3.68</td>\n",
              "      <td>0</td>\n",
              "    </tr>\n",
              "  </tbody>\n",
              "</table>\n",
              "<p>10 rows × 30 columns</p>\n",
              "</div>"
            ],
            "text/plain": [
              "         V1        V2        V3        V4        V5        V6        V7  \\\n",
              "0 -1.359807 -0.072781  2.536347  1.378155 -0.338321  0.462388  0.239599   \n",
              "1  1.191857  0.266151  0.166480  0.448154  0.060018 -0.082361 -0.078803   \n",
              "2 -1.358354 -1.340163  1.773209  0.379780 -0.503198  1.800499  0.791461   \n",
              "3 -0.966272 -0.185226  1.792993 -0.863291 -0.010309  1.247203  0.237609   \n",
              "4 -1.158233  0.877737  1.548718  0.403034 -0.407193  0.095921  0.592941   \n",
              "5 -0.425966  0.960523  1.141109 -0.168252  0.420987 -0.029728  0.476201   \n",
              "6  1.229658  0.141004  0.045371  1.202613  0.191881  0.272708 -0.005159   \n",
              "7 -0.644269  1.417964  1.074380 -0.492199  0.948934  0.428118  1.120631   \n",
              "8 -0.894286  0.286157 -0.113192 -0.271526  2.669599  3.721818  0.370145   \n",
              "9 -0.338262  1.119593  1.044367 -0.222187  0.499361 -0.246761  0.651583   \n",
              "\n",
              "         V8        V9       V10  ...         V21       V22       V23  \\\n",
              "0  0.098698  0.363787  0.090794  ...   -0.018307  0.277838 -0.110474   \n",
              "1  0.085102 -0.255425 -0.166974  ...   -0.225775 -0.638672  0.101288   \n",
              "2  0.247676 -1.514654  0.207643  ...    0.247998  0.771679  0.909412   \n",
              "3  0.377436 -1.387024 -0.054952  ...   -0.108300  0.005274 -0.190321   \n",
              "4 -0.270533  0.817739  0.753074  ...   -0.009431  0.798278 -0.137458   \n",
              "5  0.260314 -0.568671 -0.371407  ...   -0.208254 -0.559825 -0.026398   \n",
              "6  0.081213  0.464960 -0.099254  ...   -0.167716 -0.270710 -0.154104   \n",
              "7 -3.807864  0.615375  1.249376  ...    1.943465 -1.015455  0.057504   \n",
              "8  0.851084 -0.392048 -0.410430  ...   -0.073425 -0.268092 -0.204233   \n",
              "9  0.069539 -0.736727 -0.366846  ...   -0.246914 -0.633753 -0.120794   \n",
              "\n",
              "        V24       V25       V26       V27       V28  Amount  Class  \n",
              "0  0.066928  0.128539 -0.189115  0.133558 -0.021053  149.62      0  \n",
              "1 -0.339846  0.167170  0.125895 -0.008983  0.014724    2.69      0  \n",
              "2 -0.689281 -0.327642 -0.139097 -0.055353 -0.059752  378.66      0  \n",
              "3 -1.175575  0.647376 -0.221929  0.062723  0.061458  123.50      0  \n",
              "4  0.141267 -0.206010  0.502292  0.219422  0.215153   69.99      0  \n",
              "5 -0.371427 -0.232794  0.105915  0.253844  0.081080    3.67      0  \n",
              "6 -0.780055  0.750137 -0.257237  0.034507  0.005168    4.99      0  \n",
              "7 -0.649709 -0.415267 -0.051634 -1.206921 -1.085339   40.80      0  \n",
              "8  1.011592  0.373205 -0.384157  0.011747  0.142404   93.20      0  \n",
              "9 -0.385050 -0.069733  0.094199  0.246219  0.083076    3.68      0  \n",
              "\n",
              "[10 rows x 30 columns]"
            ]
          },
          "metadata": {
            "tags": []
          },
          "execution_count": 36
        }
      ]
    },
    {
      "metadata": {
        "id": "YPjRS1bw9fRb",
        "colab_type": "code",
        "outputId": "ab56d498-ec29-4c99-fe5c-afd6f6a19969",
        "colab": {
          "base_uri": "https://localhost:8080/",
          "height": 136
        }
      },
      "cell_type": "code",
      "source": [
        "#Std scalar removes the mean\n",
        "#scales the values to unit variance ??? between -1 and 1d\n",
        "StandardScaler().fit_transform(data['Amount'].values.reshape(-1,1))"
      ],
      "execution_count": 0,
      "outputs": [
        {
          "output_type": "execute_result",
          "data": {
            "text/plain": [
              "array([[ 0.24496426],\n",
              "       [-0.34247454],\n",
              "       [ 1.16068593],\n",
              "       ...,\n",
              "       [-0.0818393 ],\n",
              "       [-0.31324853],\n",
              "       [ 0.51435531]])"
            ]
          },
          "metadata": {
            "tags": []
          },
          "execution_count": 40
        }
      ]
    },
    {
      "metadata": {
        "id": "vta-smDP-H68",
        "colab_type": "code",
        "colab": {}
      },
      "cell_type": "code",
      "source": [
        "data['Amount']= StandardScaler().fit_transform(data['Amount'].values.reshape(-1,1))"
      ],
      "execution_count": 0,
      "outputs": []
    },
    {
      "metadata": {
        "id": "NDeRPu75-pGT",
        "colab_type": "code",
        "outputId": "2edd775c-dc83-4307-c023-b74ca53aa542",
        "colab": {
          "base_uri": "https://localhost:8080/",
          "height": 68
        }
      },
      "cell_type": "code",
      "source": [
        "pd.value_counts(data['Class'])"
      ],
      "execution_count": 0,
      "outputs": [
        {
          "output_type": "execute_result",
          "data": {
            "text/plain": [
              "0    284315\n",
              "1       492\n",
              "Name: Class, dtype: int64"
            ]
          },
          "metadata": {
            "tags": []
          },
          "execution_count": 44
        }
      ]
    },
    {
      "metadata": {
        "id": "H-LbZJ4tBybe",
        "colab_type": "code",
        "outputId": "361404a5-ea40-4540-b2c9-68098e10c538",
        "colab": {
          "base_uri": "https://localhost:8080/",
          "height": 153
        }
      },
      "cell_type": "code",
      "source": [
        "!ls -lart /content/"
      ],
      "execution_count": 0,
      "outputs": [
        {
          "output_type": "stream",
          "text": [
            "total 214852\n",
            "-rw-r--r-- 1 root root 150828752 Mar 23  2018 creditcard.csv\n",
            "drwxr-xr-x 1 root root      4096 Feb 26 17:33 .config\n",
            "drwxr-xr-x 1 root root      4096 Feb 26 17:33 sample_data\n",
            "drwxr-xr-x 1 root root      4096 Mar 10 18:10 ..\n",
            "-rw-r--r-- 1 root root        62 Mar 10 18:14 kaggle.json\n",
            "-rw-r--r-- 1 root root  69155632 Mar 10 18:29 creditcardfraud.zip\n",
            "drwxr-xr-x 1 root root      4096 Mar 10 18:31 .\n"
          ],
          "name": "stdout"
        }
      ]
    },
    {
      "metadata": {
        "id": "YAQL8nYtB_tq",
        "colab_type": "code",
        "colab": {}
      },
      "cell_type": "code",
      "source": [
        "#80% Training data,20% Test data\n",
        "X_train,X_test = train_test_split(data,test_size=0.2,random_state=42)"
      ],
      "execution_count": 0,
      "outputs": []
    },
    {
      "metadata": {
        "id": "dZZj47zSCrty",
        "colab_type": "code",
        "outputId": "d359fe3a-c117-4357-ccb8-f63d1f856c65",
        "colab": {
          "base_uri": "https://localhost:8080/",
          "height": 34
        }
      },
      "cell_type": "code",
      "source": [
        "X_train.shape"
      ],
      "execution_count": 0,
      "outputs": [
        {
          "output_type": "execute_result",
          "data": {
            "text/plain": [
              "(227845, 30)"
            ]
          },
          "metadata": {
            "tags": []
          },
          "execution_count": 47
        }
      ]
    },
    {
      "metadata": {
        "id": "KUnM_zWjC4fF",
        "colab_type": "code",
        "outputId": "72a1c45f-60fa-4f64-b9a6-db4e703ccfbf",
        "colab": {
          "base_uri": "https://localhost:8080/",
          "height": 34
        }
      },
      "cell_type": "code",
      "source": [
        "X_test.shape"
      ],
      "execution_count": 0,
      "outputs": [
        {
          "output_type": "execute_result",
          "data": {
            "text/plain": [
              "(56962, 30)"
            ]
          },
          "metadata": {
            "tags": []
          },
          "execution_count": 48
        }
      ]
    },
    {
      "metadata": {
        "id": "VPTg9P5bC6vR",
        "colab_type": "code",
        "outputId": "1c7585b9-6757-4021-a950-5c23a0c8f6fe",
        "colab": {
          "base_uri": "https://localhost:8080/",
          "height": 68
        }
      },
      "cell_type": "code",
      "source": [
        "pd.value_counts(X_train['Class'])"
      ],
      "execution_count": 0,
      "outputs": [
        {
          "output_type": "execute_result",
          "data": {
            "text/plain": [
              "0    227451\n",
              "1       394\n",
              "Name: Class, dtype: int64"
            ]
          },
          "metadata": {
            "tags": []
          },
          "execution_count": 49
        }
      ]
    },
    {
      "metadata": {
        "id": "bNLs7U26DIbD",
        "colab_type": "code",
        "colab": {}
      },
      "cell_type": "code",
      "source": [
        "#Remove or drop all fraud transaction in train == 1\n",
        "X_train = X_train[X_train.Class == 0]"
      ],
      "execution_count": 0,
      "outputs": []
    },
    {
      "metadata": {
        "id": "piPfsIX_DuuY",
        "colab_type": "code",
        "outputId": "e388cd0e-dd55-42e6-991b-489b578b0b64",
        "colab": {
          "base_uri": "https://localhost:8080/",
          "height": 51
        }
      },
      "cell_type": "code",
      "source": [
        "pd.value_counts(X_train['Class'])"
      ],
      "execution_count": 0,
      "outputs": [
        {
          "output_type": "execute_result",
          "data": {
            "text/plain": [
              "0    227451\n",
              "Name: Class, dtype: int64"
            ]
          },
          "metadata": {
            "tags": []
          },
          "execution_count": 52
        }
      ]
    },
    {
      "metadata": {
        "id": "-TlSSAe8D5Op",
        "colab_type": "code",
        "outputId": "c17e41bf-b3d5-4275-f390-b809f23e955f",
        "colab": {
          "base_uri": "https://localhost:8080/",
          "height": 253
        }
      },
      "cell_type": "code",
      "source": [
        "X_train.head(5)"
      ],
      "execution_count": 0,
      "outputs": [
        {
          "output_type": "execute_result",
          "data": {
            "text/html": [
              "<div>\n",
              "<style scoped>\n",
              "    .dataframe tbody tr th:only-of-type {\n",
              "        vertical-align: middle;\n",
              "    }\n",
              "\n",
              "    .dataframe tbody tr th {\n",
              "        vertical-align: top;\n",
              "    }\n",
              "\n",
              "    .dataframe thead th {\n",
              "        text-align: right;\n",
              "    }\n",
              "</style>\n",
              "<table border=\"1\" class=\"dataframe\">\n",
              "  <thead>\n",
              "    <tr style=\"text-align: right;\">\n",
              "      <th></th>\n",
              "      <th>V1</th>\n",
              "      <th>V2</th>\n",
              "      <th>V3</th>\n",
              "      <th>V4</th>\n",
              "      <th>V5</th>\n",
              "      <th>V6</th>\n",
              "      <th>V7</th>\n",
              "      <th>V8</th>\n",
              "      <th>V9</th>\n",
              "      <th>V10</th>\n",
              "      <th>...</th>\n",
              "      <th>V21</th>\n",
              "      <th>V22</th>\n",
              "      <th>V23</th>\n",
              "      <th>V24</th>\n",
              "      <th>V25</th>\n",
              "      <th>V26</th>\n",
              "      <th>V27</th>\n",
              "      <th>V28</th>\n",
              "      <th>Amount</th>\n",
              "      <th>Class</th>\n",
              "    </tr>\n",
              "  </thead>\n",
              "  <tbody>\n",
              "    <tr>\n",
              "      <th>223361</th>\n",
              "      <td>1.955041</td>\n",
              "      <td>-0.380783</td>\n",
              "      <td>-0.315013</td>\n",
              "      <td>0.330155</td>\n",
              "      <td>-0.509374</td>\n",
              "      <td>-0.086197</td>\n",
              "      <td>-0.627978</td>\n",
              "      <td>0.035994</td>\n",
              "      <td>1.054560</td>\n",
              "      <td>-0.030441</td>\n",
              "      <td>...</td>\n",
              "      <td>0.238197</td>\n",
              "      <td>0.968305</td>\n",
              "      <td>0.053208</td>\n",
              "      <td>-0.278602</td>\n",
              "      <td>-0.044999</td>\n",
              "      <td>-0.216780</td>\n",
              "      <td>0.045168</td>\n",
              "      <td>-0.047145</td>\n",
              "      <td>-0.313289</td>\n",
              "      <td>0</td>\n",
              "    </tr>\n",
              "    <tr>\n",
              "      <th>165061</th>\n",
              "      <td>-0.400975</td>\n",
              "      <td>-0.626943</td>\n",
              "      <td>1.555339</td>\n",
              "      <td>-2.017772</td>\n",
              "      <td>-0.107769</td>\n",
              "      <td>0.168310</td>\n",
              "      <td>0.017959</td>\n",
              "      <td>-0.401619</td>\n",
              "      <td>0.040378</td>\n",
              "      <td>0.611115</td>\n",
              "      <td>...</td>\n",
              "      <td>-0.153485</td>\n",
              "      <td>0.421703</td>\n",
              "      <td>0.113442</td>\n",
              "      <td>-1.004095</td>\n",
              "      <td>-1.176695</td>\n",
              "      <td>0.361924</td>\n",
              "      <td>-0.370469</td>\n",
              "      <td>-0.144792</td>\n",
              "      <td>-0.169717</td>\n",
              "      <td>0</td>\n",
              "    </tr>\n",
              "    <tr>\n",
              "      <th>238186</th>\n",
              "      <td>0.072509</td>\n",
              "      <td>0.820566</td>\n",
              "      <td>-0.561351</td>\n",
              "      <td>-0.709897</td>\n",
              "      <td>1.080399</td>\n",
              "      <td>-0.359429</td>\n",
              "      <td>0.787858</td>\n",
              "      <td>0.117276</td>\n",
              "      <td>-0.131275</td>\n",
              "      <td>-0.638222</td>\n",
              "      <td>...</td>\n",
              "      <td>-0.314638</td>\n",
              "      <td>-0.872959</td>\n",
              "      <td>0.083391</td>\n",
              "      <td>0.148178</td>\n",
              "      <td>-0.431459</td>\n",
              "      <td>0.119690</td>\n",
              "      <td>0.206395</td>\n",
              "      <td>0.070288</td>\n",
              "      <td>-0.305292</td>\n",
              "      <td>0</td>\n",
              "    </tr>\n",
              "    <tr>\n",
              "      <th>150562</th>\n",
              "      <td>-0.535045</td>\n",
              "      <td>1.014587</td>\n",
              "      <td>1.750679</td>\n",
              "      <td>2.769390</td>\n",
              "      <td>0.500089</td>\n",
              "      <td>1.002270</td>\n",
              "      <td>0.847902</td>\n",
              "      <td>-0.081323</td>\n",
              "      <td>0.371579</td>\n",
              "      <td>0.560595</td>\n",
              "      <td>...</td>\n",
              "      <td>0.063525</td>\n",
              "      <td>0.443431</td>\n",
              "      <td>-0.072754</td>\n",
              "      <td>0.448192</td>\n",
              "      <td>-0.655203</td>\n",
              "      <td>-0.181038</td>\n",
              "      <td>-0.093013</td>\n",
              "      <td>-0.064931</td>\n",
              "      <td>0.116306</td>\n",
              "      <td>0</td>\n",
              "    </tr>\n",
              "    <tr>\n",
              "      <th>138452</th>\n",
              "      <td>-4.026938</td>\n",
              "      <td>1.897371</td>\n",
              "      <td>-0.429786</td>\n",
              "      <td>-0.029571</td>\n",
              "      <td>-0.855751</td>\n",
              "      <td>-0.480406</td>\n",
              "      <td>-0.435632</td>\n",
              "      <td>1.313760</td>\n",
              "      <td>0.536044</td>\n",
              "      <td>1.221746</td>\n",
              "      <td>...</td>\n",
              "      <td>-0.480691</td>\n",
              "      <td>-0.230369</td>\n",
              "      <td>0.250717</td>\n",
              "      <td>0.066399</td>\n",
              "      <td>0.470787</td>\n",
              "      <td>0.245335</td>\n",
              "      <td>0.286904</td>\n",
              "      <td>-0.322672</td>\n",
              "      <td>-0.250239</td>\n",
              "      <td>0</td>\n",
              "    </tr>\n",
              "  </tbody>\n",
              "</table>\n",
              "<p>5 rows × 30 columns</p>\n",
              "</div>"
            ],
            "text/plain": [
              "              V1        V2        V3        V4        V5        V6        V7  \\\n",
              "223361  1.955041 -0.380783 -0.315013  0.330155 -0.509374 -0.086197 -0.627978   \n",
              "165061 -0.400975 -0.626943  1.555339 -2.017772 -0.107769  0.168310  0.017959   \n",
              "238186  0.072509  0.820566 -0.561351 -0.709897  1.080399 -0.359429  0.787858   \n",
              "150562 -0.535045  1.014587  1.750679  2.769390  0.500089  1.002270  0.847902   \n",
              "138452 -4.026938  1.897371 -0.429786 -0.029571 -0.855751 -0.480406 -0.435632   \n",
              "\n",
              "              V8        V9       V10  ...         V21       V22       V23  \\\n",
              "223361  0.035994  1.054560 -0.030441  ...    0.238197  0.968305  0.053208   \n",
              "165061 -0.401619  0.040378  0.611115  ...   -0.153485  0.421703  0.113442   \n",
              "238186  0.117276 -0.131275 -0.638222  ...   -0.314638 -0.872959  0.083391   \n",
              "150562 -0.081323  0.371579  0.560595  ...    0.063525  0.443431 -0.072754   \n",
              "138452  1.313760  0.536044  1.221746  ...   -0.480691 -0.230369  0.250717   \n",
              "\n",
              "             V24       V25       V26       V27       V28    Amount  Class  \n",
              "223361 -0.278602 -0.044999 -0.216780  0.045168 -0.047145 -0.313289      0  \n",
              "165061 -1.004095 -1.176695  0.361924 -0.370469 -0.144792 -0.169717      0  \n",
              "238186  0.148178 -0.431459  0.119690  0.206395  0.070288 -0.305292      0  \n",
              "150562  0.448192 -0.655203 -0.181038 -0.093013 -0.064931  0.116306      0  \n",
              "138452  0.066399  0.470787  0.245335  0.286904 -0.322672 -0.250239      0  \n",
              "\n",
              "[5 rows x 30 columns]"
            ]
          },
          "metadata": {
            "tags": []
          },
          "execution_count": 53
        }
      ]
    },
    {
      "metadata": {
        "id": "NWtvXXsbEFzn",
        "colab_type": "code",
        "colab": {}
      },
      "cell_type": "code",
      "source": [
        "X_train = X_train.drop(['Class'],axis=1)"
      ],
      "execution_count": 0,
      "outputs": []
    },
    {
      "metadata": {
        "id": "FJedJzIqEQXr",
        "colab_type": "code",
        "outputId": "9afcb3b1-6017-4c19-d80f-eb7b22405911",
        "colab": {
          "base_uri": "https://localhost:8080/",
          "height": 253
        }
      },
      "cell_type": "code",
      "source": [
        "X_train.head(5)"
      ],
      "execution_count": 0,
      "outputs": [
        {
          "output_type": "execute_result",
          "data": {
            "text/html": [
              "<div>\n",
              "<style scoped>\n",
              "    .dataframe tbody tr th:only-of-type {\n",
              "        vertical-align: middle;\n",
              "    }\n",
              "\n",
              "    .dataframe tbody tr th {\n",
              "        vertical-align: top;\n",
              "    }\n",
              "\n",
              "    .dataframe thead th {\n",
              "        text-align: right;\n",
              "    }\n",
              "</style>\n",
              "<table border=\"1\" class=\"dataframe\">\n",
              "  <thead>\n",
              "    <tr style=\"text-align: right;\">\n",
              "      <th></th>\n",
              "      <th>V1</th>\n",
              "      <th>V2</th>\n",
              "      <th>V3</th>\n",
              "      <th>V4</th>\n",
              "      <th>V5</th>\n",
              "      <th>V6</th>\n",
              "      <th>V7</th>\n",
              "      <th>V8</th>\n",
              "      <th>V9</th>\n",
              "      <th>V10</th>\n",
              "      <th>...</th>\n",
              "      <th>V20</th>\n",
              "      <th>V21</th>\n",
              "      <th>V22</th>\n",
              "      <th>V23</th>\n",
              "      <th>V24</th>\n",
              "      <th>V25</th>\n",
              "      <th>V26</th>\n",
              "      <th>V27</th>\n",
              "      <th>V28</th>\n",
              "      <th>Amount</th>\n",
              "    </tr>\n",
              "  </thead>\n",
              "  <tbody>\n",
              "    <tr>\n",
              "      <th>223361</th>\n",
              "      <td>1.955041</td>\n",
              "      <td>-0.380783</td>\n",
              "      <td>-0.315013</td>\n",
              "      <td>0.330155</td>\n",
              "      <td>-0.509374</td>\n",
              "      <td>-0.086197</td>\n",
              "      <td>-0.627978</td>\n",
              "      <td>0.035994</td>\n",
              "      <td>1.054560</td>\n",
              "      <td>-0.030441</td>\n",
              "      <td>...</td>\n",
              "      <td>-0.125390</td>\n",
              "      <td>0.238197</td>\n",
              "      <td>0.968305</td>\n",
              "      <td>0.053208</td>\n",
              "      <td>-0.278602</td>\n",
              "      <td>-0.044999</td>\n",
              "      <td>-0.216780</td>\n",
              "      <td>0.045168</td>\n",
              "      <td>-0.047145</td>\n",
              "      <td>-0.313289</td>\n",
              "    </tr>\n",
              "    <tr>\n",
              "      <th>165061</th>\n",
              "      <td>-0.400975</td>\n",
              "      <td>-0.626943</td>\n",
              "      <td>1.555339</td>\n",
              "      <td>-2.017772</td>\n",
              "      <td>-0.107769</td>\n",
              "      <td>0.168310</td>\n",
              "      <td>0.017959</td>\n",
              "      <td>-0.401619</td>\n",
              "      <td>0.040378</td>\n",
              "      <td>0.611115</td>\n",
              "      <td>...</td>\n",
              "      <td>-0.470372</td>\n",
              "      <td>-0.153485</td>\n",
              "      <td>0.421703</td>\n",
              "      <td>0.113442</td>\n",
              "      <td>-1.004095</td>\n",
              "      <td>-1.176695</td>\n",
              "      <td>0.361924</td>\n",
              "      <td>-0.370469</td>\n",
              "      <td>-0.144792</td>\n",
              "      <td>-0.169717</td>\n",
              "    </tr>\n",
              "    <tr>\n",
              "      <th>238186</th>\n",
              "      <td>0.072509</td>\n",
              "      <td>0.820566</td>\n",
              "      <td>-0.561351</td>\n",
              "      <td>-0.709897</td>\n",
              "      <td>1.080399</td>\n",
              "      <td>-0.359429</td>\n",
              "      <td>0.787858</td>\n",
              "      <td>0.117276</td>\n",
              "      <td>-0.131275</td>\n",
              "      <td>-0.638222</td>\n",
              "      <td>...</td>\n",
              "      <td>0.012227</td>\n",
              "      <td>-0.314638</td>\n",
              "      <td>-0.872959</td>\n",
              "      <td>0.083391</td>\n",
              "      <td>0.148178</td>\n",
              "      <td>-0.431459</td>\n",
              "      <td>0.119690</td>\n",
              "      <td>0.206395</td>\n",
              "      <td>0.070288</td>\n",
              "      <td>-0.305292</td>\n",
              "    </tr>\n",
              "    <tr>\n",
              "      <th>150562</th>\n",
              "      <td>-0.535045</td>\n",
              "      <td>1.014587</td>\n",
              "      <td>1.750679</td>\n",
              "      <td>2.769390</td>\n",
              "      <td>0.500089</td>\n",
              "      <td>1.002270</td>\n",
              "      <td>0.847902</td>\n",
              "      <td>-0.081323</td>\n",
              "      <td>0.371579</td>\n",
              "      <td>0.560595</td>\n",
              "      <td>...</td>\n",
              "      <td>-0.253757</td>\n",
              "      <td>0.063525</td>\n",
              "      <td>0.443431</td>\n",
              "      <td>-0.072754</td>\n",
              "      <td>0.448192</td>\n",
              "      <td>-0.655203</td>\n",
              "      <td>-0.181038</td>\n",
              "      <td>-0.093013</td>\n",
              "      <td>-0.064931</td>\n",
              "      <td>0.116306</td>\n",
              "    </tr>\n",
              "    <tr>\n",
              "      <th>138452</th>\n",
              "      <td>-4.026938</td>\n",
              "      <td>1.897371</td>\n",
              "      <td>-0.429786</td>\n",
              "      <td>-0.029571</td>\n",
              "      <td>-0.855751</td>\n",
              "      <td>-0.480406</td>\n",
              "      <td>-0.435632</td>\n",
              "      <td>1.313760</td>\n",
              "      <td>0.536044</td>\n",
              "      <td>1.221746</td>\n",
              "      <td>...</td>\n",
              "      <td>-0.012320</td>\n",
              "      <td>-0.480691</td>\n",
              "      <td>-0.230369</td>\n",
              "      <td>0.250717</td>\n",
              "      <td>0.066399</td>\n",
              "      <td>0.470787</td>\n",
              "      <td>0.245335</td>\n",
              "      <td>0.286904</td>\n",
              "      <td>-0.322672</td>\n",
              "      <td>-0.250239</td>\n",
              "    </tr>\n",
              "  </tbody>\n",
              "</table>\n",
              "<p>5 rows × 29 columns</p>\n",
              "</div>"
            ],
            "text/plain": [
              "              V1        V2        V3        V4        V5        V6        V7  \\\n",
              "223361  1.955041 -0.380783 -0.315013  0.330155 -0.509374 -0.086197 -0.627978   \n",
              "165061 -0.400975 -0.626943  1.555339 -2.017772 -0.107769  0.168310  0.017959   \n",
              "238186  0.072509  0.820566 -0.561351 -0.709897  1.080399 -0.359429  0.787858   \n",
              "150562 -0.535045  1.014587  1.750679  2.769390  0.500089  1.002270  0.847902   \n",
              "138452 -4.026938  1.897371 -0.429786 -0.029571 -0.855751 -0.480406 -0.435632   \n",
              "\n",
              "              V8        V9       V10    ...          V20       V21       V22  \\\n",
              "223361  0.035994  1.054560 -0.030441    ...    -0.125390  0.238197  0.968305   \n",
              "165061 -0.401619  0.040378  0.611115    ...    -0.470372 -0.153485  0.421703   \n",
              "238186  0.117276 -0.131275 -0.638222    ...     0.012227 -0.314638 -0.872959   \n",
              "150562 -0.081323  0.371579  0.560595    ...    -0.253757  0.063525  0.443431   \n",
              "138452  1.313760  0.536044  1.221746    ...    -0.012320 -0.480691 -0.230369   \n",
              "\n",
              "             V23       V24       V25       V26       V27       V28    Amount  \n",
              "223361  0.053208 -0.278602 -0.044999 -0.216780  0.045168 -0.047145 -0.313289  \n",
              "165061  0.113442 -1.004095 -1.176695  0.361924 -0.370469 -0.144792 -0.169717  \n",
              "238186  0.083391  0.148178 -0.431459  0.119690  0.206395  0.070288 -0.305292  \n",
              "150562 -0.072754  0.448192 -0.655203 -0.181038 -0.093013 -0.064931  0.116306  \n",
              "138452  0.250717  0.066399  0.470787  0.245335  0.286904 -0.322672 -0.250239  \n",
              "\n",
              "[5 rows x 29 columns]"
            ]
          },
          "metadata": {
            "tags": []
          },
          "execution_count": 55
        }
      ]
    },
    {
      "metadata": {
        "id": "IbADP-ATEZi7",
        "colab_type": "code",
        "outputId": "4167da22-2e3f-4b58-f66e-67e788217150",
        "colab": {
          "base_uri": "https://localhost:8080/",
          "height": 34
        }
      },
      "cell_type": "code",
      "source": [
        "X_train.shape"
      ],
      "execution_count": 0,
      "outputs": [
        {
          "output_type": "execute_result",
          "data": {
            "text/plain": [
              "(227451, 29)"
            ]
          },
          "metadata": {
            "tags": []
          },
          "execution_count": 57
        }
      ]
    },
    {
      "metadata": {
        "id": "4HBaFG5EEixS",
        "colab_type": "code",
        "colab": {}
      },
      "cell_type": "code",
      "source": [
        "y_test = X_test['Class']"
      ],
      "execution_count": 0,
      "outputs": []
    },
    {
      "metadata": {
        "id": "kOR8He97FVrn",
        "colab_type": "code",
        "colab": {}
      },
      "cell_type": "code",
      "source": [
        "X_test = X_test.drop(['Class'],axis=1)"
      ],
      "execution_count": 0,
      "outputs": []
    },
    {
      "metadata": {
        "id": "7rcnpncJFh1q",
        "colab_type": "code",
        "outputId": "d84a9a4d-4097-481f-b65d-1d4b5f8f30ef",
        "colab": {
          "base_uri": "https://localhost:8080/",
          "height": 238
        }
      },
      "cell_type": "code",
      "source": [
        "X_train.values"
      ],
      "execution_count": 0,
      "outputs": [
        {
          "output_type": "execute_result",
          "data": {
            "text/plain": [
              "array([[ 1.95504092e+00, -3.80782711e-01, -3.15012853e-01, ...,\n",
              "         4.51682478e-02, -4.71447917e-02, -3.13288512e-01],\n",
              "       [-4.00975239e-01, -6.26942769e-01,  1.55533881e+00, ...,\n",
              "        -3.70468822e-01, -1.44791686e-01, -1.69717237e-01],\n",
              "       [ 7.25090164e-02,  8.20565650e-01, -5.61350916e-01, ...,\n",
              "         2.06394866e-01,  7.02877702e-02, -3.05292340e-01],\n",
              "       ...,\n",
              "       [-1.46608925e-01,  9.92946123e-01,  1.52459137e+00, ...,\n",
              "        -1.21139194e-01, -1.96195328e-01, -3.37476933e-01],\n",
              "       [-2.94863809e+00,  2.35484929e+00, -2.52120111e+00, ...,\n",
              "         4.96912107e-01,  3.35821632e-01, -3.49231307e-01],\n",
              "       [ 1.23317435e+00, -7.84850501e-01,  3.86783869e-01, ...,\n",
              "         1.21657270e-03,  3.85878912e-02,  9.85543469e-02]])"
            ]
          },
          "metadata": {
            "tags": []
          },
          "execution_count": 60
        }
      ]
    },
    {
      "metadata": {
        "id": "AsFWdNFaFmsn",
        "colab_type": "code",
        "colab": {}
      },
      "cell_type": "code",
      "source": [
        "X_train = X_train.values"
      ],
      "execution_count": 0,
      "outputs": []
    },
    {
      "metadata": {
        "id": "hHOls37LFt8C",
        "colab_type": "code",
        "colab": {}
      },
      "cell_type": "code",
      "source": [
        "X_test = X_test.values"
      ],
      "execution_count": 0,
      "outputs": []
    },
    {
      "metadata": {
        "id": "-KjWXGFyFwYH",
        "colab_type": "code",
        "outputId": "542a33f4-6027-447f-e8ca-90e0ab2a37ad",
        "colab": {
          "base_uri": "https://localhost:8080/",
          "height": 34
        }
      },
      "cell_type": "code",
      "source": [
        "X_train.shape"
      ],
      "execution_count": 0,
      "outputs": [
        {
          "output_type": "execute_result",
          "data": {
            "text/plain": [
              "(227451, 29)"
            ]
          },
          "metadata": {
            "tags": []
          },
          "execution_count": 65
        }
      ]
    },
    {
      "metadata": {
        "id": "s1iCM63ZF2JY",
        "colab_type": "code",
        "colab": {}
      },
      "cell_type": "code",
      "source": [
        "#Build Autoencoder using 4 fully connected layers with 14, 7, 7 and 29 neurons \n",
        "input_layer = Input(shape=(29,))\n",
        "encoder = Dense(14,activation='tanh',activity_regularizer=regularizers.l1(10e-5))(input_layer)\n",
        "encoder = Dense(7,activation='relu')(encoder)\n",
        "\n",
        "decoder = Dense(7,activation='tanh')(encoder)\n",
        "decoder = Dense(29,activation='relu')(decoder)\n",
        "\n",
        "autoencoder = Model(inputs=input_layer,outputs=decoder)\n"
      ],
      "execution_count": 0,
      "outputs": []
    },
    {
      "metadata": {
        "id": "1nGpQX5-TcnG",
        "colab_type": "code",
        "outputId": "65838d17-ced7-41f6-b285-e46d99100a00",
        "colab": {
          "base_uri": "https://localhost:8080/",
          "height": 3505
        }
      },
      "cell_type": "code",
      "source": [
        "#Train for 100 epoch; Batch zie = 32\n",
        "autoencoder.compile(optimizer='adam',loss='mean_squared_error',metrics=['accuracy'])\n",
        "checkpointer = ModelCheckpoint(filepath=\"model.h5\",verbose=0,save_best_only=True)\n",
        "tensorboard = TensorBoard(log_dir='./logs',histogram_freq=0,write_graph=True,write_images=True)\n",
        "#history = autoencoder.fit(x=X_train, y=X_train, batch_size=32, epochs=100, verbose=1, callbacks=[checkpointer,tensorboard], validation_data=(X_train,X_test), shuffle=True).history\n",
        "history = autoencoder.fit(X_train, X_train,\n",
        "                    epochs=100,\n",
        "                    batch_size=32,\n",
        "                    shuffle=True,\n",
        "                    validation_data=(X_test, X_test),\n",
        "                    verbose=1,\n",
        "                    callbacks=[checkpointer, tensorboard]).history"
      ],
      "execution_count": 0,
      "outputs": [
        {
          "output_type": "stream",
          "text": [
            "WARNING:tensorflow:From /usr/local/lib/python3.6/dist-packages/tensorflow/python/ops/math_ops.py:3066: to_int32 (from tensorflow.python.ops.math_ops) is deprecated and will be removed in a future version.\n",
            "Instructions for updating:\n",
            "Use tf.cast instead.\n",
            "Train on 227451 samples, validate on 56962 samples\n",
            "Epoch 1/100\n",
            "227451/227451 [==============================] - 10s 45us/step - loss: 0.8312 - acc: 0.5377 - val_loss: 0.8135 - val_acc: 0.5735\n",
            "Epoch 2/100\n",
            "227451/227451 [==============================] - 10s 43us/step - loss: 0.7706 - acc: 0.5787 - val_loss: 0.7937 - val_acc: 0.5812\n",
            "Epoch 3/100\n",
            "227451/227451 [==============================] - 10s 43us/step - loss: 0.7592 - acc: 0.5938 - val_loss: 0.7874 - val_acc: 0.5997\n",
            "Epoch 4/100\n",
            "227451/227451 [==============================] - 10s 43us/step - loss: 0.7541 - acc: 0.6036 - val_loss: 0.7839 - val_acc: 0.6026\n",
            "Epoch 5/100\n",
            "227451/227451 [==============================] - 10s 43us/step - loss: 0.7507 - acc: 0.6068 - val_loss: 0.7836 - val_acc: 0.6049\n",
            "Epoch 6/100\n",
            "227451/227451 [==============================] - 10s 43us/step - loss: 0.7485 - acc: 0.6113 - val_loss: 0.7779 - val_acc: 0.6168\n",
            "Epoch 7/100\n",
            "227451/227451 [==============================] - 10s 43us/step - loss: 0.7456 - acc: 0.6146 - val_loss: 0.7784 - val_acc: 0.6102\n",
            "Epoch 8/100\n",
            "227451/227451 [==============================] - 10s 43us/step - loss: 0.7442 - acc: 0.6169 - val_loss: 0.7846 - val_acc: 0.6105\n",
            "Epoch 9/100\n",
            "227451/227451 [==============================] - 10s 43us/step - loss: 0.7427 - acc: 0.6202 - val_loss: 0.7740 - val_acc: 0.6241\n",
            "Epoch 10/100\n",
            "227451/227451 [==============================] - 10s 43us/step - loss: 0.7415 - acc: 0.6236 - val_loss: 0.7733 - val_acc: 0.6266\n",
            "Epoch 11/100\n",
            "227451/227451 [==============================] - 10s 43us/step - loss: 0.7405 - acc: 0.6276 - val_loss: 0.7734 - val_acc: 0.6223\n",
            "Epoch 12/100\n",
            "227451/227451 [==============================] - 10s 44us/step - loss: 0.7397 - acc: 0.6310 - val_loss: 0.7721 - val_acc: 0.6333\n",
            "Epoch 13/100\n",
            "227451/227451 [==============================] - 10s 44us/step - loss: 0.7378 - acc: 0.6365 - val_loss: 0.7736 - val_acc: 0.6294\n",
            "Epoch 14/100\n",
            "227451/227451 [==============================] - 10s 43us/step - loss: 0.7370 - acc: 0.6388 - val_loss: 0.7729 - val_acc: 0.6406\n",
            "Epoch 15/100\n",
            "227451/227451 [==============================] - 10s 43us/step - loss: 0.7362 - acc: 0.6409 - val_loss: 0.7727 - val_acc: 0.6347\n",
            "Epoch 16/100\n",
            "227451/227451 [==============================] - 10s 43us/step - loss: 0.7357 - acc: 0.6419 - val_loss: 0.7721 - val_acc: 0.6334\n",
            "Epoch 17/100\n",
            "227451/227451 [==============================] - 10s 43us/step - loss: 0.7353 - acc: 0.6433 - val_loss: 0.7681 - val_acc: 0.6489\n",
            "Epoch 18/100\n",
            "227451/227451 [==============================] - 10s 45us/step - loss: 0.7348 - acc: 0.6432 - val_loss: 0.7694 - val_acc: 0.6514\n",
            "Epoch 19/100\n",
            "227451/227451 [==============================] - 10s 43us/step - loss: 0.7344 - acc: 0.6431 - val_loss: 0.7698 - val_acc: 0.6446\n",
            "Epoch 20/100\n",
            "227451/227451 [==============================] - 10s 43us/step - loss: 0.7338 - acc: 0.6435 - val_loss: 0.7724 - val_acc: 0.6392\n",
            "Epoch 21/100\n",
            "227451/227451 [==============================] - 10s 43us/step - loss: 0.7330 - acc: 0.6420 - val_loss: 0.7671 - val_acc: 0.6464\n",
            "Epoch 22/100\n",
            "227451/227451 [==============================] - 10s 43us/step - loss: 0.7333 - acc: 0.6415 - val_loss: 0.7672 - val_acc: 0.6418\n",
            "Epoch 23/100\n",
            "227451/227451 [==============================] - 10s 43us/step - loss: 0.7321 - acc: 0.6414 - val_loss: 0.7682 - val_acc: 0.6420\n",
            "Epoch 24/100\n",
            "227451/227451 [==============================] - 10s 46us/step - loss: 0.7317 - acc: 0.6423 - val_loss: 0.7671 - val_acc: 0.6387\n",
            "Epoch 25/100\n",
            "227451/227451 [==============================] - 10s 43us/step - loss: 0.7313 - acc: 0.6402 - val_loss: 0.7648 - val_acc: 0.6412\n",
            "Epoch 26/100\n",
            "227451/227451 [==============================] - 10s 43us/step - loss: 0.7312 - acc: 0.6419 - val_loss: 0.7651 - val_acc: 0.6465\n",
            "Epoch 27/100\n",
            "227451/227451 [==============================] - 10s 43us/step - loss: 0.7311 - acc: 0.6415 - val_loss: 0.7654 - val_acc: 0.6428\n",
            "Epoch 28/100\n",
            "227451/227451 [==============================] - 10s 43us/step - loss: 0.7307 - acc: 0.6423 - val_loss: 0.7657 - val_acc: 0.6390\n",
            "Epoch 29/100\n",
            "227451/227451 [==============================] - 10s 43us/step - loss: 0.7304 - acc: 0.6424 - val_loss: 0.7636 - val_acc: 0.6484\n",
            "Epoch 30/100\n",
            "227451/227451 [==============================] - 10s 43us/step - loss: 0.7301 - acc: 0.6425 - val_loss: 0.7641 - val_acc: 0.6428\n",
            "Epoch 31/100\n",
            "227451/227451 [==============================] - 10s 43us/step - loss: 0.7303 - acc: 0.6422 - val_loss: 0.7660 - val_acc: 0.6431\n",
            "Epoch 32/100\n",
            "227451/227451 [==============================] - 10s 43us/step - loss: 0.7299 - acc: 0.6433 - val_loss: 0.7788 - val_acc: 0.6275\n",
            "Epoch 33/100\n",
            "227451/227451 [==============================] - 10s 43us/step - loss: 0.7299 - acc: 0.6426 - val_loss: 0.7649 - val_acc: 0.6431\n",
            "Epoch 34/100\n",
            "227451/227451 [==============================] - 10s 44us/step - loss: 0.7295 - acc: 0.6436 - val_loss: 0.7841 - val_acc: 0.6139\n",
            "Epoch 35/100\n",
            "227451/227451 [==============================] - 10s 44us/step - loss: 0.7295 - acc: 0.6439 - val_loss: 0.7646 - val_acc: 0.6484\n",
            "Epoch 36/100\n",
            "227451/227451 [==============================] - 10s 43us/step - loss: 0.7297 - acc: 0.6444 - val_loss: 0.7637 - val_acc: 0.6495\n",
            "Epoch 37/100\n",
            "227451/227451 [==============================] - 10s 43us/step - loss: 0.7295 - acc: 0.6438 - val_loss: 0.7643 - val_acc: 0.6490\n",
            "Epoch 38/100\n",
            "227451/227451 [==============================] - 10s 43us/step - loss: 0.7293 - acc: 0.6449 - val_loss: 0.7639 - val_acc: 0.6448\n",
            "Epoch 39/100\n",
            "227451/227451 [==============================] - 10s 43us/step - loss: 0.7292 - acc: 0.6444 - val_loss: 0.7633 - val_acc: 0.6483\n",
            "Epoch 40/100\n",
            "227451/227451 [==============================] - 10s 43us/step - loss: 0.7289 - acc: 0.6452 - val_loss: 0.7646 - val_acc: 0.6510\n",
            "Epoch 41/100\n",
            "227451/227451 [==============================] - 10s 43us/step - loss: 0.7288 - acc: 0.6458 - val_loss: 0.7643 - val_acc: 0.6503\n",
            "Epoch 42/100\n",
            "227451/227451 [==============================] - 10s 43us/step - loss: 0.7283 - acc: 0.6452 - val_loss: 0.7643 - val_acc: 0.6504\n",
            "Epoch 43/100\n",
            "227451/227451 [==============================] - 10s 44us/step - loss: 0.7285 - acc: 0.6450 - val_loss: 0.7647 - val_acc: 0.6474\n",
            "Epoch 44/100\n",
            "227451/227451 [==============================] - 10s 43us/step - loss: 0.7287 - acc: 0.6454 - val_loss: 0.7719 - val_acc: 0.6251\n",
            "Epoch 45/100\n",
            "227451/227451 [==============================] - 10s 43us/step - loss: 0.7282 - acc: 0.6460 - val_loss: 0.7636 - val_acc: 0.6437\n",
            "Epoch 46/100\n",
            "227451/227451 [==============================] - 10s 44us/step - loss: 0.7282 - acc: 0.6460 - val_loss: 0.7641 - val_acc: 0.6484\n",
            "Epoch 47/100\n",
            "227451/227451 [==============================] - 10s 43us/step - loss: 0.7281 - acc: 0.6464 - val_loss: 0.7656 - val_acc: 0.6470\n",
            "Epoch 48/100\n",
            "227451/227451 [==============================] - 10s 44us/step - loss: 0.7281 - acc: 0.6466 - val_loss: 0.7659 - val_acc: 0.6474\n",
            "Epoch 49/100\n",
            "227451/227451 [==============================] - 10s 45us/step - loss: 0.7281 - acc: 0.6472 - val_loss: 0.7634 - val_acc: 0.6443\n",
            "Epoch 50/100\n",
            "227451/227451 [==============================] - 10s 43us/step - loss: 0.7278 - acc: 0.6466 - val_loss: 0.7616 - val_acc: 0.6557\n",
            "Epoch 51/100\n",
            "227451/227451 [==============================] - 10s 43us/step - loss: 0.7277 - acc: 0.6469 - val_loss: 0.7629 - val_acc: 0.6492\n",
            "Epoch 52/100\n",
            "227451/227451 [==============================] - 10s 43us/step - loss: 0.7281 - acc: 0.6469 - val_loss: 0.7620 - val_acc: 0.6521\n",
            "Epoch 53/100\n",
            "227451/227451 [==============================] - 10s 43us/step - loss: 0.7280 - acc: 0.6481 - val_loss: 0.7628 - val_acc: 0.6495\n",
            "Epoch 54/100\n",
            "227451/227451 [==============================] - 10s 43us/step - loss: 0.7278 - acc: 0.6487 - val_loss: 0.7627 - val_acc: 0.6543\n",
            "Epoch 55/100\n",
            "227451/227451 [==============================] - 10s 45us/step - loss: 0.7275 - acc: 0.6491 - val_loss: 0.7642 - val_acc: 0.6522\n",
            "Epoch 56/100\n",
            "227451/227451 [==============================] - 10s 45us/step - loss: 0.7275 - acc: 0.6481 - val_loss: 0.7627 - val_acc: 0.6416\n",
            "Epoch 57/100\n",
            "227451/227451 [==============================] - 10s 43us/step - loss: 0.7275 - acc: 0.6488 - val_loss: 0.7632 - val_acc: 0.6501\n",
            "Epoch 58/100\n",
            "227451/227451 [==============================] - 10s 43us/step - loss: 0.7274 - acc: 0.6495 - val_loss: 0.7638 - val_acc: 0.6475\n",
            "Epoch 59/100\n",
            "227451/227451 [==============================] - 10s 43us/step - loss: 0.7273 - acc: 0.6493 - val_loss: 0.7627 - val_acc: 0.6404\n",
            "Epoch 60/100\n",
            "227451/227451 [==============================] - 10s 43us/step - loss: 0.7273 - acc: 0.6494 - val_loss: 0.7646 - val_acc: 0.6527\n",
            "Epoch 61/100\n",
            "227451/227451 [==============================] - 10s 43us/step - loss: 0.7271 - acc: 0.6503 - val_loss: 0.7617 - val_acc: 0.6499\n",
            "Epoch 62/100\n",
            "227451/227451 [==============================] - 10s 43us/step - loss: 0.7276 - acc: 0.6495 - val_loss: 0.7611 - val_acc: 0.6583\n",
            "Epoch 63/100\n",
            "227451/227451 [==============================] - 10s 43us/step - loss: 0.7269 - acc: 0.6501 - val_loss: 0.7615 - val_acc: 0.6513\n",
            "Epoch 64/100\n",
            "227451/227451 [==============================] - 10s 43us/step - loss: 0.7278 - acc: 0.6495 - val_loss: 0.7612 - val_acc: 0.6556\n",
            "Epoch 65/100\n",
            "227451/227451 [==============================] - 10s 43us/step - loss: 0.7271 - acc: 0.6506 - val_loss: 0.7608 - val_acc: 0.6485\n",
            "Epoch 66/100\n",
            "227451/227451 [==============================] - 10s 43us/step - loss: 0.7274 - acc: 0.6509 - val_loss: 0.7621 - val_acc: 0.6542\n",
            "Epoch 67/100\n",
            "227451/227451 [==============================] - 10s 43us/step - loss: 0.7269 - acc: 0.6502 - val_loss: 0.7650 - val_acc: 0.6450\n",
            "Epoch 68/100\n",
            "227451/227451 [==============================] - 10s 43us/step - loss: 0.7267 - acc: 0.6504 - val_loss: 0.7646 - val_acc: 0.6445\n",
            "Epoch 69/100\n",
            "227451/227451 [==============================] - 10s 43us/step - loss: 0.7270 - acc: 0.6508 - val_loss: 0.7619 - val_acc: 0.6522\n",
            "Epoch 70/100\n",
            "227451/227451 [==============================] - 10s 43us/step - loss: 0.7275 - acc: 0.6505 - val_loss: 0.7617 - val_acc: 0.6505\n",
            "Epoch 71/100\n",
            "227451/227451 [==============================] - 10s 43us/step - loss: 0.7270 - acc: 0.6503 - val_loss: 0.7607 - val_acc: 0.6491\n",
            "Epoch 72/100\n",
            "227451/227451 [==============================] - 10s 43us/step - loss: 0.7270 - acc: 0.6507 - val_loss: 0.7619 - val_acc: 0.6576\n",
            "Epoch 73/100\n",
            "227451/227451 [==============================] - 10s 43us/step - loss: 0.7272 - acc: 0.6512 - val_loss: 0.7614 - val_acc: 0.6533\n",
            "Epoch 74/100\n",
            "227451/227451 [==============================] - 10s 43us/step - loss: 0.7271 - acc: 0.6509 - val_loss: 0.7677 - val_acc: 0.6447\n",
            "Epoch 75/100\n",
            "227451/227451 [==============================] - 10s 43us/step - loss: 0.7272 - acc: 0.6503 - val_loss: 0.7599 - val_acc: 0.6572\n",
            "Epoch 76/100\n",
            "227451/227451 [==============================] - 10s 43us/step - loss: 0.7263 - acc: 0.6516 - val_loss: 0.7607 - val_acc: 0.6568\n",
            "Epoch 77/100\n",
            "227451/227451 [==============================] - 10s 43us/step - loss: 0.7261 - acc: 0.6511 - val_loss: 0.7611 - val_acc: 0.6491\n",
            "Epoch 78/100\n",
            "227451/227451 [==============================] - 10s 43us/step - loss: 0.7267 - acc: 0.6517 - val_loss: 0.7666 - val_acc: 0.6450\n",
            "Epoch 79/100\n",
            "227451/227451 [==============================] - 10s 43us/step - loss: 0.7264 - acc: 0.6515 - val_loss: 0.7616 - val_acc: 0.6530\n",
            "Epoch 80/100\n",
            "227451/227451 [==============================] - 10s 45us/step - loss: 0.7265 - acc: 0.6512 - val_loss: 0.7603 - val_acc: 0.6493\n",
            "Epoch 81/100\n",
            "227451/227451 [==============================] - 10s 44us/step - loss: 0.7265 - acc: 0.6517 - val_loss: 0.7601 - val_acc: 0.6624\n",
            "Epoch 82/100\n",
            "227451/227451 [==============================] - 10s 43us/step - loss: 0.7264 - acc: 0.6517 - val_loss: 0.7674 - val_acc: 0.6508\n",
            "Epoch 83/100\n",
            "227451/227451 [==============================] - 10s 43us/step - loss: 0.7264 - acc: 0.6518 - val_loss: 0.7606 - val_acc: 0.6546\n",
            "Epoch 84/100\n",
            "227451/227451 [==============================] - 10s 43us/step - loss: 0.7272 - acc: 0.6516 - val_loss: 0.7661 - val_acc: 0.6497\n",
            "Epoch 85/100\n",
            "227451/227451 [==============================] - 10s 43us/step - loss: 0.7266 - acc: 0.6518 - val_loss: 0.7617 - val_acc: 0.6570\n",
            "Epoch 86/100\n",
            "227451/227451 [==============================] - 10s 44us/step - loss: 0.7265 - acc: 0.6527 - val_loss: 0.7608 - val_acc: 0.6578\n",
            "Epoch 87/100\n",
            "227451/227451 [==============================] - 11s 46us/step - loss: 0.7265 - acc: 0.6520 - val_loss: 0.7617 - val_acc: 0.6535\n",
            "Epoch 88/100\n",
            "227451/227451 [==============================] - 10s 43us/step - loss: 0.7261 - acc: 0.6518 - val_loss: 0.7602 - val_acc: 0.6542\n",
            "Epoch 89/100\n",
            "227451/227451 [==============================] - 10s 43us/step - loss: 0.7262 - acc: 0.6518 - val_loss: 0.7593 - val_acc: 0.6519\n",
            "Epoch 90/100\n",
            "227451/227451 [==============================] - 10s 43us/step - loss: 0.7263 - acc: 0.6516 - val_loss: 0.7612 - val_acc: 0.6540\n",
            "Epoch 91/100\n",
            "227451/227451 [==============================] - 10s 43us/step - loss: 0.7262 - acc: 0.6524 - val_loss: 0.7629 - val_acc: 0.6503\n",
            "Epoch 92/100\n",
            "227451/227451 [==============================] - 10s 43us/step - loss: 0.7260 - acc: 0.6521 - val_loss: 0.7635 - val_acc: 0.6551\n",
            "Epoch 93/100\n",
            "227451/227451 [==============================] - 10s 43us/step - loss: 0.7260 - acc: 0.6518 - val_loss: 0.7629 - val_acc: 0.6522\n",
            "Epoch 94/100\n",
            "227451/227451 [==============================] - 10s 43us/step - loss: 0.7261 - acc: 0.6516 - val_loss: 0.7618 - val_acc: 0.6573\n",
            "Epoch 95/100\n",
            "227451/227451 [==============================] - 10s 44us/step - loss: 0.7259 - acc: 0.6517 - val_loss: 0.7626 - val_acc: 0.6532\n",
            "Epoch 96/100\n",
            "227451/227451 [==============================] - 10s 43us/step - loss: 0.7262 - acc: 0.6518 - val_loss: 0.7625 - val_acc: 0.6543\n",
            "Epoch 97/100\n",
            "227451/227451 [==============================] - 10s 44us/step - loss: 0.7262 - acc: 0.6526 - val_loss: 0.7612 - val_acc: 0.6505\n",
            "Epoch 98/100\n",
            "227451/227451 [==============================] - 10s 43us/step - loss: 0.7263 - acc: 0.6523 - val_loss: 0.7646 - val_acc: 0.6503\n",
            "Epoch 99/100\n",
            "227451/227451 [==============================] - 10s 43us/step - loss: 0.7263 - acc: 0.6523 - val_loss: 0.7626 - val_acc: 0.6559\n",
            "Epoch 100/100\n",
            "227451/227451 [==============================] - 10s 43us/step - loss: 0.7259 - acc: 0.6516 - val_loss: 0.7600 - val_acc: 0.6562\n"
          ],
          "name": "stdout"
        }
      ]
    },
    {
      "metadata": {
        "id": "FMpmABd5Vn_k",
        "colab_type": "code",
        "colab": {}
      },
      "cell_type": "code",
      "source": [
        "autoencoder = load_model('model.h5')"
      ],
      "execution_count": 0,
      "outputs": []
    },
    {
      "metadata": {
        "id": "NRC8NQiyZ5u0",
        "colab_type": "code",
        "outputId": "b1cd8556-8cee-469c-d15d-f4d4e7457eb8",
        "colab": {
          "base_uri": "https://localhost:8080/",
          "height": 376
        }
      },
      "cell_type": "code",
      "source": [
        "plt.plot(history['loss'])\n",
        "plt.plot(history['val_loss'])\n",
        "plt.title('model loss')\n",
        "plt.ylabel('loss')\n",
        "plt.xlabel('epoch')\n",
        "plt.legend(['train', 'test'], loc='upper right');"
      ],
      "execution_count": 0,
      "outputs": [
        {
          "output_type": "display_data",
          "data": {
            "image/png": "[encoded data removed]",
            "text/plain": [
              "<Figure size 576x396 with 1 Axes>"
            ]
          },
          "metadata": {
            "tags": []
          }
        }
      ]
    },
    {
      "metadata": {
        "id": "RvzAZ1iXZ8iS",
        "colab_type": "code",
        "colab": {}
      },
      "cell_type": "code",
      "source": [
        "predictions  = autoencoder.predict(X_test)"
      ],
      "execution_count": 0,
      "outputs": []
    },
    {
      "metadata": {
        "id": "78j-PE4MaYoO",
        "colab_type": "code",
        "outputId": "05ce07cf-c1db-43c1-d849-87afd6db828f",
        "colab": {
          "base_uri": "https://localhost:8080/",
          "height": 34
        }
      },
      "cell_type": "code",
      "source": [
        "predictions.shape"
      ],
      "execution_count": 0,
      "outputs": [
        {
          "output_type": "execute_result",
          "data": {
            "text/plain": [
              "(56962, 29)"
            ]
          },
          "metadata": {
            "tags": []
          },
          "execution_count": 75
        }
      ]
    },
    {
      "metadata": {
        "id": "vzije1a5ac0V",
        "colab_type": "code",
        "colab": {}
      },
      "cell_type": "code",
      "source": [
        "mse = np.mean(np.power(X_test - predictions, 2), axis=1)"
      ],
      "execution_count": 0,
      "outputs": []
    },
    {
      "metadata": {
        "id": "s--hDCVRarj6",
        "colab_type": "code",
        "outputId": "76b670bc-d538-4655-93f5-de9103b6f906",
        "colab": {
          "base_uri": "https://localhost:8080/",
          "height": 51
        }
      },
      "cell_type": "code",
      "source": [
        "mse"
      ],
      "execution_count": 0,
      "outputs": [
        {
          "output_type": "execute_result",
          "data": {
            "text/plain": [
              "array([81.17927239,  0.79774921,  0.26860064, ...,  0.45111158,\n",
              "        0.11799729,  1.66496737])"
            ]
          },
          "metadata": {
            "tags": []
          },
          "execution_count": 77
        }
      ]
    },
    {
      "metadata": {
        "id": "5tKMGqg3asVQ",
        "colab_type": "code",
        "colab": {}
      },
      "cell_type": "code",
      "source": [
        "error_df = pd.DataFrame({'recon_error': mse,'true_class': y_test})"
      ],
      "execution_count": 0,
      "outputs": []
    },
    {
      "metadata": {
        "id": "g2RvPls7a6AQ",
        "colab_type": "code",
        "outputId": "92d0cbb7-3fc7-489f-a7a3-1b3669d7de08",
        "colab": {
          "base_uri": "https://localhost:8080/",
          "height": 297
        }
      },
      "cell_type": "code",
      "source": [
        "error_df.describe()"
      ],
      "execution_count": 0,
      "outputs": [
        {
          "output_type": "execute_result",
          "data": {
            "text/html": [
              "<div>\n",
              "<style scoped>\n",
              "    .dataframe tbody tr th:only-of-type {\n",
              "        vertical-align: middle;\n",
              "    }\n",
              "\n",
              "    .dataframe tbody tr th {\n",
              "        vertical-align: top;\n",
              "    }\n",
              "\n",
              "    .dataframe thead th {\n",
              "        text-align: right;\n",
              "    }\n",
              "</style>\n",
              "<table border=\"1\" class=\"dataframe\">\n",
              "  <thead>\n",
              "    <tr style=\"text-align: right;\">\n",
              "      <th></th>\n",
              "      <th>recon_error</th>\n",
              "      <th>true_class</th>\n",
              "    </tr>\n",
              "  </thead>\n",
              "  <tbody>\n",
              "    <tr>\n",
              "      <th>count</th>\n",
              "      <td>56962.000000</td>\n",
              "      <td>56962.000000</td>\n",
              "    </tr>\n",
              "    <tr>\n",
              "      <th>mean</th>\n",
              "      <td>0.751097</td>\n",
              "      <td>0.001720</td>\n",
              "    </tr>\n",
              "    <tr>\n",
              "      <th>std</th>\n",
              "      <td>3.398436</td>\n",
              "      <td>0.041443</td>\n",
              "    </tr>\n",
              "    <tr>\n",
              "      <th>min</th>\n",
              "      <td>0.032737</td>\n",
              "      <td>0.000000</td>\n",
              "    </tr>\n",
              "    <tr>\n",
              "      <th>25%</th>\n",
              "      <td>0.248911</td>\n",
              "      <td>0.000000</td>\n",
              "    </tr>\n",
              "    <tr>\n",
              "      <th>50%</th>\n",
              "      <td>0.406947</td>\n",
              "      <td>0.000000</td>\n",
              "    </tr>\n",
              "    <tr>\n",
              "      <th>75%</th>\n",
              "      <td>0.664563</td>\n",
              "      <td>0.000000</td>\n",
              "    </tr>\n",
              "    <tr>\n",
              "      <th>max</th>\n",
              "      <td>263.121501</td>\n",
              "      <td>1.000000</td>\n",
              "    </tr>\n",
              "  </tbody>\n",
              "</table>\n",
              "</div>"
            ],
            "text/plain": [
              "        recon_error    true_class\n",
              "count  56962.000000  56962.000000\n",
              "mean       0.751097      0.001720\n",
              "std        3.398436      0.041443\n",
              "min        0.032737      0.000000\n",
              "25%        0.248911      0.000000\n",
              "50%        0.406947      0.000000\n",
              "75%        0.664563      0.000000\n",
              "max      263.121501      1.000000"
            ]
          },
          "metadata": {
            "tags": []
          },
          "execution_count": 79
        }
      ]
    },
    {
      "metadata": {
        "id": "G3xdktJAc6Pm",
        "colab_type": "code",
        "colab": {}
      },
      "cell_type": "code",
      "source": [
        "#Prediction\n",
        "threshold = 2.9\n"
      ],
      "execution_count": 0,
      "outputs": []
    },
    {
      "metadata": {
        "id": "xXu-79OsdISN",
        "colab_type": "code",
        "outputId": "6e5dc2e9-3942-4514-cf88-8a262a3c49f6",
        "colab": {
          "base_uri": "https://localhost:8080/",
          "height": 231
        }
      },
      "cell_type": "code",
      "source": [
        "y_pred = [1 if e > threshold else 0 for e in error_df.recon_error.values]\n",
        "conf_matrix = confusion_matrix(error_df.true_class, y_pred)\n",
        "plt.figure(figsize=(12, 12))\n",
        "sns.heatmap(conf_matrix, xticklabels=LABELS, yticklabels=LABELS, annot=True, fmt=\"d\");\n",
        "plt.title(\"Confusion matrix\")\n",
        "plt.ylabel('True class')\n",
        "plt.xlabel('Predicted class')\n",
        "plt.show()"
      ],
      "execution_count": 0,
      "outputs": [
        {
          "output_type": "error",
          "ename": "NameError",
          "evalue": "ignored",
          "traceback": [
            "\u001b[0;31m---------------------------------------------------------------------------\u001b[0m",
            "\u001b[0;31mNameError\u001b[0m                                 Traceback (most recent call last)",
            "\u001b[0;32m<ipython-input-85-fece30a19995>\u001b[0m in \u001b[0;36m<module>\u001b[0;34m()\u001b[0m\n\u001b[1;32m      1\u001b[0m \u001b[0my_pred\u001b[0m \u001b[0;34m=\u001b[0m \u001b[0;34m[\u001b[0m\u001b[0;36m1\u001b[0m \u001b[0;32mif\u001b[0m \u001b[0me\u001b[0m \u001b[0;34m>\u001b[0m \u001b[0mthreshold\u001b[0m \u001b[0;32melse\u001b[0m \u001b[0;36m0\u001b[0m \u001b[0;32mfor\u001b[0m \u001b[0me\u001b[0m \u001b[0;32min\u001b[0m \u001b[0merror_df\u001b[0m\u001b[0;34m.\u001b[0m\u001b[0mrecon_error\u001b[0m\u001b[0;34m.\u001b[0m\u001b[0mvalues\u001b[0m\u001b[0;34m]\u001b[0m\u001b[0;34m\u001b[0m\u001b[0;34m\u001b[0m\u001b[0m\n\u001b[0;32m----> 2\u001b[0;31m \u001b[0mconf_matrix\u001b[0m \u001b[0;34m=\u001b[0m \u001b[0mconfusion_matrix\u001b[0m\u001b[0;34m(\u001b[0m\u001b[0merror_df\u001b[0m\u001b[0;34m.\u001b[0m\u001b[0mtrue_class\u001b[0m\u001b[0;34m,\u001b[0m \u001b[0my_pred\u001b[0m\u001b[0;34m)\u001b[0m\u001b[0;34m\u001b[0m\u001b[0;34m\u001b[0m\u001b[0m\n\u001b[0m\u001b[1;32m      3\u001b[0m \u001b[0mplt\u001b[0m\u001b[0;34m.\u001b[0m\u001b[0mfigure\u001b[0m\u001b[0;34m(\u001b[0m\u001b[0mfigsize\u001b[0m\u001b[0;34m=\u001b[0m\u001b[0;34m(\u001b[0m\u001b[0;36m12\u001b[0m\u001b[0;34m,\u001b[0m \u001b[0;36m12\u001b[0m\u001b[0;34m)\u001b[0m\u001b[0;34m)\u001b[0m\u001b[0;34m\u001b[0m\u001b[0;34m\u001b[0m\u001b[0m\n\u001b[1;32m      4\u001b[0m \u001b[0msns\u001b[0m\u001b[0;34m.\u001b[0m\u001b[0mheatmap\u001b[0m\u001b[0;34m(\u001b[0m\u001b[0mconf_matrix\u001b[0m\u001b[0;34m,\u001b[0m \u001b[0mxticklabels\u001b[0m\u001b[0;34m=\u001b[0m\u001b[0mLABELS\u001b[0m\u001b[0;34m,\u001b[0m \u001b[0myticklabels\u001b[0m\u001b[0;34m=\u001b[0m\u001b[0mLABELS\u001b[0m\u001b[0;34m,\u001b[0m \u001b[0mannot\u001b[0m\u001b[0;34m=\u001b[0m\u001b[0;32mTrue\u001b[0m\u001b[0;34m,\u001b[0m \u001b[0mfmt\u001b[0m\u001b[0;34m=\u001b[0m\u001b[0;34m\"d\"\u001b[0m\u001b[0;34m)\u001b[0m\u001b[0;34m;\u001b[0m\u001b[0;34m\u001b[0m\u001b[0;34m\u001b[0m\u001b[0m\n\u001b[1;32m      5\u001b[0m \u001b[0mplt\u001b[0m\u001b[0;34m.\u001b[0m\u001b[0mtitle\u001b[0m\u001b[0;34m(\u001b[0m\u001b[0;34m\"Confusion matrix\"\u001b[0m\u001b[0;34m)\u001b[0m\u001b[0;34m\u001b[0m\u001b[0;34m\u001b[0m\u001b[0m\n",
            "\u001b[0;31mNameError\u001b[0m: name 'confusion_matrix' is not defined"
          ]
        }
      ]
    },
    {
      "metadata": {
        "id": "ceEmsfR_dPPM",
        "colab_type": "code",
        "colab": {}
      },
      "cell_type": "code",
      "source": [
        ""
      ],
      "execution_count": 0,
      "outputs": []
    }
  ]
}